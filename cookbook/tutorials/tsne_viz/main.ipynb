{
 "cells": [
  {
   "cell_type": "markdown",
   "metadata": {},
   "source": [
    "# Project data into 2D with t-SNE"
   ]
  },
  {
   "cell_type": "code",
   "execution_count": 5,
   "metadata": {},
   "outputs": [],
   "source": [
    "%pip install plotly scikit-learn"
   ]
  },
  {
   "cell_type": "markdown",
   "metadata": {},
   "source": [
    "## Scatter Plot"
   ]
  },
  {
   "cell_type": "code",
   "execution_count": 6,
   "metadata": {},
   "outputs": [
    {
     "data": {
      "application/vnd.plotly.v1+json": {
       "config": {
        "plotlyServerURL": "https://plot.ly"
       },
       "data": [
        {
         "hovertemplate": "species=setosa<br>0=%{x}<br>1=%{y}<extra></extra>",
         "legendgroup": "setosa",
         "marker": {
          "color": "#636efa",
          "symbol": "circle"
         },
         "mode": "markers",
         "name": "setosa",
         "orientation": "v",
         "showlegend": true,
         "type": "scatter",
         "x": {
          "bdata": "5LzHwTYXssEBdbPBFpmvwZAOycEIbdjB+dq0wcFWwsGgXqnBDRW3wUIe1MHvqb3BIEywwduJqMG9bN7BcIrgwVYl2cFfi8jBtgDawTWh0cFQXc7B47HOwYIdtsFdycXBm3a+wUQjtsFA5cTBs37LwZ2sx8HTZrXBgB21wUsYzsE7Z9rBzgTewQ0Vt8E4obvB9VbSwQ0Vt8GVe6rBX/PEwWsjxMETa6XBzX+twU5aycGSW9PB5vWvwZ5Y0sEQRLHBOkfSwYT4vsE=",
          "dtype": "f4"
         },
         "xaxis": "x",
         "y": {
          "bdata": "p0l8P3qXnb35dpY/IBZAP+phHT8HjfQ+4KPKP+PyEj8jt00/a+VXPo7Tkz8Lc+c9pgZfPiNquj8JWbQ/DAZaP68rej+++0E/d+m/PwxvnT5gyN8/y7iFPj8HGED0xva+ZwtKvyRc+r7gKFu9PMN/P8YKqz+XpiI/vymRvZfr0D8+yEs+iho/P2vlVz4LpKE/K+ToP2vlVz6mZZA/CBI6PwL5nD8RX0Q+fsnIPz204r73Jui+dxhHPhbZXD70vZE/4RNtP3YrVD8=",
          "dtype": "f4"
         },
         "yaxis": "y"
        },
        {
         "hovertemplate": "species=versicolor<br>0=%{x}<br>1=%{y}<extra></extra>",
         "legendgroup": "versicolor",
         "marker": {
          "color": "#EF553B",
          "symbol": "circle"
         },
         "mode": "markers",
         "name": "versicolor",
         "orientation": "v",
         "showlegend": true,
         "type": "scatter",
         "x": {
          "bdata": "cJoaQagECkE5lCJBjVBmQPR/EEFwFbpA7fIPQV6tDEDbhg5BUwpgQBh+EkCAgMlAqLiLQJWJA0HzOXRA/HsMQYZvv0Ds3plABvDYQJVWd0AF6RVBNry2QBnxJEEBi/lAII37QNwKCUH3MRxBTp0wQfON7UB/T1ZArJZZQO1ZTUA1ZZBAc38uQeZorUD81wNBHE4YQbHb2EDnBaRADZR6QOIBk0CuWf9AVkyQQIKGEEDBe5VACpuuQPldq0CVseVA1oMIQDSonUA=",
          "dtype": "f4"
         },
         "xaxis": "x",
         "y": {
          "bdata": "kM/cvxsCVL6x3cO//sLTP+8vBb8bb3w/5uvOPr1AFkBhYXG/zIadPw6RAkA8O8I/0gRHQGevOD8sfi1A/42ev+WsYj9dHBRADOVav/ACCkCfedU/ATcTQKnlwz6Uuwo/MEjRvhaxb7800Jy/wniKv7EMfj+ebjNA7PgHQGUeFUCj3RNAgUy6P/3rET96vMA/49SUvwNUSL+7kcE/yxzRPz2acz/rjDc/GtoLQHD3FUCIqK0/wdfOPzB+wD98zdM+MMIjQHke3T8=",
          "dtype": "f4"
         },
         "yaxis": "y"
        },
        {
         "hovertemplate": "species=virginica<br>0=%{x}<br>1=%{y}<extra></extra>",
         "legendgroup": "virginica",
         "marker": {
          "color": "#00cc96",
          "symbol": "circle"
         },
         "mode": "markers",
         "name": "virginica",
         "orientation": "v",
         "showlegend": true,
         "type": "scatter",
         "x": {
          "bdata": "FSR/QW6HMEG/c39BYh1YQcXLb0HvRIpBvxiAQJS/hEGGI2RBt/mGQVAeUUG4VEtBsLppQbw8MEEdyTpBdWNkQcUoWUFDxY1BgdOLQdSsHUGF/ndBHb8sQcuVikHiTixBD2l0Qe5hgUGv5CNBNGkhQaSDYkHYZ31Brf6DQY6fjUHNnGVBonQuQXdRSEGJLYhBYDV3QVyvWEHVGBxBE0ppQT3qcUF8q19BbocwQdPGfUF0fXtB951fQaAXNUFP+VJBnqNyQVCOKUE=",
          "dtype": "f4"
         },
         "xaxis": "x",
         "y": {
          "bdata": "IamhvDTQD0AlCvO/vhzcPmUAqb76JCfA1lamPSBgK8AlvVo/+xqtv/TbZL/XfJw+AQyTv2ZKK0CmMC9AYIAVv0UFjL3LK/2///w+wPjxJ0D+a6e/6ZstQPwKNsDfajk/7l57v+fbE8CfGXY/mq6qP5KPAT7jtiTAVp4owFX4/L/SiQg9gYPOPlBwqT90RBTABRnXPVAuxbxmCb8/Tl68v0SMVr+pxM+/NNAPQNOGir+ORya/XTacvxA9YD8rhxu/YB/APuiu7D8=",
          "dtype": "f4"
         },
         "yaxis": "y"
        }
       ],
       "layout": {
        "legend": {
         "title": {
          "text": "species"
         },
         "tracegroupgap": 0
        },
        "margin": {
         "t": 60
        },
        "template": {
         "data": {
          "bar": [
           {
            "error_x": {
             "color": "#2a3f5f"
            },
            "error_y": {
             "color": "#2a3f5f"
            },
            "marker": {
             "line": {
              "color": "#E5ECF6",
              "width": 0.5
             },
             "pattern": {
              "fillmode": "overlay",
              "size": 10,
              "solidity": 0.2
             }
            },
            "type": "bar"
           }
          ],
          "barpolar": [
           {
            "marker": {
             "line": {
              "color": "#E5ECF6",
              "width": 0.5
             },
             "pattern": {
              "fillmode": "overlay",
              "size": 10,
              "solidity": 0.2
             }
            },
            "type": "barpolar"
           }
          ],
          "carpet": [
           {
            "aaxis": {
             "endlinecolor": "#2a3f5f",
             "gridcolor": "white",
             "linecolor": "white",
             "minorgridcolor": "white",
             "startlinecolor": "#2a3f5f"
            },
            "baxis": {
             "endlinecolor": "#2a3f5f",
             "gridcolor": "white",
             "linecolor": "white",
             "minorgridcolor": "white",
             "startlinecolor": "#2a3f5f"
            },
            "type": "carpet"
           }
          ],
          "choropleth": [
           {
            "colorbar": {
             "outlinewidth": 0,
             "ticks": ""
            },
            "type": "choropleth"
           }
          ],
          "contour": [
           {
            "colorbar": {
             "outlinewidth": 0,
             "ticks": ""
            },
            "colorscale": [
             [
              0,
              "#0d0887"
             ],
             [
              0.1111111111111111,
              "#46039f"
             ],
             [
              0.2222222222222222,
              "#7201a8"
             ],
             [
              0.3333333333333333,
              "#9c179e"
             ],
             [
              0.4444444444444444,
              "#bd3786"
             ],
             [
              0.5555555555555556,
              "#d8576b"
             ],
             [
              0.6666666666666666,
              "#ed7953"
             ],
             [
              0.7777777777777778,
              "#fb9f3a"
             ],
             [
              0.8888888888888888,
              "#fdca26"
             ],
             [
              1,
              "#f0f921"
             ]
            ],
            "type": "contour"
           }
          ],
          "contourcarpet": [
           {
            "colorbar": {
             "outlinewidth": 0,
             "ticks": ""
            },
            "type": "contourcarpet"
           }
          ],
          "heatmap": [
           {
            "colorbar": {
             "outlinewidth": 0,
             "ticks": ""
            },
            "colorscale": [
             [
              0,
              "#0d0887"
             ],
             [
              0.1111111111111111,
              "#46039f"
             ],
             [
              0.2222222222222222,
              "#7201a8"
             ],
             [
              0.3333333333333333,
              "#9c179e"
             ],
             [
              0.4444444444444444,
              "#bd3786"
             ],
             [
              0.5555555555555556,
              "#d8576b"
             ],
             [
              0.6666666666666666,
              "#ed7953"
             ],
             [
              0.7777777777777778,
              "#fb9f3a"
             ],
             [
              0.8888888888888888,
              "#fdca26"
             ],
             [
              1,
              "#f0f921"
             ]
            ],
            "type": "heatmap"
           }
          ],
          "histogram": [
           {
            "marker": {
             "pattern": {
              "fillmode": "overlay",
              "size": 10,
              "solidity": 0.2
             }
            },
            "type": "histogram"
           }
          ],
          "histogram2d": [
           {
            "colorbar": {
             "outlinewidth": 0,
             "ticks": ""
            },
            "colorscale": [
             [
              0,
              "#0d0887"
             ],
             [
              0.1111111111111111,
              "#46039f"
             ],
             [
              0.2222222222222222,
              "#7201a8"
             ],
             [
              0.3333333333333333,
              "#9c179e"
             ],
             [
              0.4444444444444444,
              "#bd3786"
             ],
             [
              0.5555555555555556,
              "#d8576b"
             ],
             [
              0.6666666666666666,
              "#ed7953"
             ],
             [
              0.7777777777777778,
              "#fb9f3a"
             ],
             [
              0.8888888888888888,
              "#fdca26"
             ],
             [
              1,
              "#f0f921"
             ]
            ],
            "type": "histogram2d"
           }
          ],
          "histogram2dcontour": [
           {
            "colorbar": {
             "outlinewidth": 0,
             "ticks": ""
            },
            "colorscale": [
             [
              0,
              "#0d0887"
             ],
             [
              0.1111111111111111,
              "#46039f"
             ],
             [
              0.2222222222222222,
              "#7201a8"
             ],
             [
              0.3333333333333333,
              "#9c179e"
             ],
             [
              0.4444444444444444,
              "#bd3786"
             ],
             [
              0.5555555555555556,
              "#d8576b"
             ],
             [
              0.6666666666666666,
              "#ed7953"
             ],
             [
              0.7777777777777778,
              "#fb9f3a"
             ],
             [
              0.8888888888888888,
              "#fdca26"
             ],
             [
              1,
              "#f0f921"
             ]
            ],
            "type": "histogram2dcontour"
           }
          ],
          "mesh3d": [
           {
            "colorbar": {
             "outlinewidth": 0,
             "ticks": ""
            },
            "type": "mesh3d"
           }
          ],
          "parcoords": [
           {
            "line": {
             "colorbar": {
              "outlinewidth": 0,
              "ticks": ""
             }
            },
            "type": "parcoords"
           }
          ],
          "pie": [
           {
            "automargin": true,
            "type": "pie"
           }
          ],
          "scatter": [
           {
            "fillpattern": {
             "fillmode": "overlay",
             "size": 10,
             "solidity": 0.2
            },
            "type": "scatter"
           }
          ],
          "scatter3d": [
           {
            "line": {
             "colorbar": {
              "outlinewidth": 0,
              "ticks": ""
             }
            },
            "marker": {
             "colorbar": {
              "outlinewidth": 0,
              "ticks": ""
             }
            },
            "type": "scatter3d"
           }
          ],
          "scattercarpet": [
           {
            "marker": {
             "colorbar": {
              "outlinewidth": 0,
              "ticks": ""
             }
            },
            "type": "scattercarpet"
           }
          ],
          "scattergeo": [
           {
            "marker": {
             "colorbar": {
              "outlinewidth": 0,
              "ticks": ""
             }
            },
            "type": "scattergeo"
           }
          ],
          "scattergl": [
           {
            "marker": {
             "colorbar": {
              "outlinewidth": 0,
              "ticks": ""
             }
            },
            "type": "scattergl"
           }
          ],
          "scattermap": [
           {
            "marker": {
             "colorbar": {
              "outlinewidth": 0,
              "ticks": ""
             }
            },
            "type": "scattermap"
           }
          ],
          "scattermapbox": [
           {
            "marker": {
             "colorbar": {
              "outlinewidth": 0,
              "ticks": ""
             }
            },
            "type": "scattermapbox"
           }
          ],
          "scatterpolar": [
           {
            "marker": {
             "colorbar": {
              "outlinewidth": 0,
              "ticks": ""
             }
            },
            "type": "scatterpolar"
           }
          ],
          "scatterpolargl": [
           {
            "marker": {
             "colorbar": {
              "outlinewidth": 0,
              "ticks": ""
             }
            },
            "type": "scatterpolargl"
           }
          ],
          "scatterternary": [
           {
            "marker": {
             "colorbar": {
              "outlinewidth": 0,
              "ticks": ""
             }
            },
            "type": "scatterternary"
           }
          ],
          "surface": [
           {
            "colorbar": {
             "outlinewidth": 0,
             "ticks": ""
            },
            "colorscale": [
             [
              0,
              "#0d0887"
             ],
             [
              0.1111111111111111,
              "#46039f"
             ],
             [
              0.2222222222222222,
              "#7201a8"
             ],
             [
              0.3333333333333333,
              "#9c179e"
             ],
             [
              0.4444444444444444,
              "#bd3786"
             ],
             [
              0.5555555555555556,
              "#d8576b"
             ],
             [
              0.6666666666666666,
              "#ed7953"
             ],
             [
              0.7777777777777778,
              "#fb9f3a"
             ],
             [
              0.8888888888888888,
              "#fdca26"
             ],
             [
              1,
              "#f0f921"
             ]
            ],
            "type": "surface"
           }
          ],
          "table": [
           {
            "cells": {
             "fill": {
              "color": "#EBF0F8"
             },
             "line": {
              "color": "white"
             }
            },
            "header": {
             "fill": {
              "color": "#C8D4E3"
             },
             "line": {
              "color": "white"
             }
            },
            "type": "table"
           }
          ]
         },
         "layout": {
          "annotationdefaults": {
           "arrowcolor": "#2a3f5f",
           "arrowhead": 0,
           "arrowwidth": 1
          },
          "autotypenumbers": "strict",
          "coloraxis": {
           "colorbar": {
            "outlinewidth": 0,
            "ticks": ""
           }
          },
          "colorscale": {
           "diverging": [
            [
             0,
             "#8e0152"
            ],
            [
             0.1,
             "#c51b7d"
            ],
            [
             0.2,
             "#de77ae"
            ],
            [
             0.3,
             "#f1b6da"
            ],
            [
             0.4,
             "#fde0ef"
            ],
            [
             0.5,
             "#f7f7f7"
            ],
            [
             0.6,
             "#e6f5d0"
            ],
            [
             0.7,
             "#b8e186"
            ],
            [
             0.8,
             "#7fbc41"
            ],
            [
             0.9,
             "#4d9221"
            ],
            [
             1,
             "#276419"
            ]
           ],
           "sequential": [
            [
             0,
             "#0d0887"
            ],
            [
             0.1111111111111111,
             "#46039f"
            ],
            [
             0.2222222222222222,
             "#7201a8"
            ],
            [
             0.3333333333333333,
             "#9c179e"
            ],
            [
             0.4444444444444444,
             "#bd3786"
            ],
            [
             0.5555555555555556,
             "#d8576b"
            ],
            [
             0.6666666666666666,
             "#ed7953"
            ],
            [
             0.7777777777777778,
             "#fb9f3a"
            ],
            [
             0.8888888888888888,
             "#fdca26"
            ],
            [
             1,
             "#f0f921"
            ]
           ],
           "sequentialminus": [
            [
             0,
             "#0d0887"
            ],
            [
             0.1111111111111111,
             "#46039f"
            ],
            [
             0.2222222222222222,
             "#7201a8"
            ],
            [
             0.3333333333333333,
             "#9c179e"
            ],
            [
             0.4444444444444444,
             "#bd3786"
            ],
            [
             0.5555555555555556,
             "#d8576b"
            ],
            [
             0.6666666666666666,
             "#ed7953"
            ],
            [
             0.7777777777777778,
             "#fb9f3a"
            ],
            [
             0.8888888888888888,
             "#fdca26"
            ],
            [
             1,
             "#f0f921"
            ]
           ]
          },
          "colorway": [
           "#636efa",
           "#EF553B",
           "#00cc96",
           "#ab63fa",
           "#FFA15A",
           "#19d3f3",
           "#FF6692",
           "#B6E880",
           "#FF97FF",
           "#FECB52"
          ],
          "font": {
           "color": "#2a3f5f"
          },
          "geo": {
           "bgcolor": "white",
           "lakecolor": "white",
           "landcolor": "#E5ECF6",
           "showlakes": true,
           "showland": true,
           "subunitcolor": "white"
          },
          "hoverlabel": {
           "align": "left"
          },
          "hovermode": "closest",
          "mapbox": {
           "style": "light"
          },
          "paper_bgcolor": "white",
          "plot_bgcolor": "#E5ECF6",
          "polar": {
           "angularaxis": {
            "gridcolor": "white",
            "linecolor": "white",
            "ticks": ""
           },
           "bgcolor": "#E5ECF6",
           "radialaxis": {
            "gridcolor": "white",
            "linecolor": "white",
            "ticks": ""
           }
          },
          "scene": {
           "xaxis": {
            "backgroundcolor": "#E5ECF6",
            "gridcolor": "white",
            "gridwidth": 2,
            "linecolor": "white",
            "showbackground": true,
            "ticks": "",
            "zerolinecolor": "white"
           },
           "yaxis": {
            "backgroundcolor": "#E5ECF6",
            "gridcolor": "white",
            "gridwidth": 2,
            "linecolor": "white",
            "showbackground": true,
            "ticks": "",
            "zerolinecolor": "white"
           },
           "zaxis": {
            "backgroundcolor": "#E5ECF6",
            "gridcolor": "white",
            "gridwidth": 2,
            "linecolor": "white",
            "showbackground": true,
            "ticks": "",
            "zerolinecolor": "white"
           }
          },
          "shapedefaults": {
           "line": {
            "color": "#2a3f5f"
           }
          },
          "ternary": {
           "aaxis": {
            "gridcolor": "white",
            "linecolor": "white",
            "ticks": ""
           },
           "baxis": {
            "gridcolor": "white",
            "linecolor": "white",
            "ticks": ""
           },
           "bgcolor": "#E5ECF6",
           "caxis": {
            "gridcolor": "white",
            "linecolor": "white",
            "ticks": ""
           }
          },
          "title": {
           "x": 0.05
          },
          "xaxis": {
           "automargin": true,
           "gridcolor": "white",
           "linecolor": "white",
           "ticks": "",
           "title": {
            "standoff": 15
           },
           "zerolinecolor": "white",
           "zerolinewidth": 2
          },
          "yaxis": {
           "automargin": true,
           "gridcolor": "white",
           "linecolor": "white",
           "ticks": "",
           "title": {
            "standoff": 15
           },
           "zerolinecolor": "white",
           "zerolinewidth": 2
          }
         }
        },
        "xaxis": {
         "anchor": "y",
         "domain": [
          0,
          1
         ],
         "title": {
          "text": "0"
         }
        },
        "yaxis": {
         "anchor": "x",
         "domain": [
          0,
          1
         ],
         "title": {
          "text": "1"
         }
        }
       }
      }
     },
     "metadata": {},
     "output_type": "display_data"
    }
   ],
   "source": [
    "from sklearn.manifold import TSNE\n",
    "import plotly.express as px\n",
    "\n",
    "df = px.data.iris()\n",
    "\n",
    "features = df.loc[:, :'petal_width']\n",
    "\n",
    "tsne = TSNE(n_components=2, random_state=0)\n",
    "projections = tsne.fit_transform(features)\n",
    "\n",
    "fig = px.scatter(\n",
    "    projections, x=0, y=1,\n",
    "    color=df.species, labels={'color': 'species'}\n",
    ")\n",
    "fig.show()"
   ]
  },
  {
   "cell_type": "markdown",
   "metadata": {},
   "source": [
    "## Load embeddings"
   ]
  },
  {
   "cell_type": "code",
   "execution_count": 36,
   "metadata": {},
   "outputs": [
    {
     "data": {
      "text/html": [
       "<div>\n",
       "<style scoped>\n",
       "    .dataframe tbody tr th:only-of-type {\n",
       "        vertical-align: middle;\n",
       "    }\n",
       "\n",
       "    .dataframe tbody tr th {\n",
       "        vertical-align: top;\n",
       "    }\n",
       "\n",
       "    .dataframe thead th {\n",
       "        text-align: right;\n",
       "    }\n",
       "</style>\n",
       "<table border=\"1\" class=\"dataframe\">\n",
       "  <thead>\n",
       "    <tr style=\"text-align: right;\">\n",
       "      <th></th>\n",
       "      <th>id</th>\n",
       "      <th>file_id</th>\n",
       "      <th>content</th>\n",
       "      <th>start_pos</th>\n",
       "      <th>end_pos</th>\n",
       "      <th>embedding</th>\n",
       "    </tr>\n",
       "  </thead>\n",
       "  <tbody>\n",
       "    <tr>\n",
       "      <th>0</th>\n",
       "      <td>awesome-llm-apps/README.md_0-521</td>\n",
       "      <td>awesome-llm-apps/README.md</td>\n",
       "      <td>&lt;p align=\"center\"&gt;\\n  &lt;a href=\"http://www.theu...</td>\n",
       "      <td>0</td>\n",
       "      <td>521</td>\n",
       "      <td>[0.003139447, -0.021057991, -0.043931056, -0.0...</td>\n",
       "    </tr>\n",
       "    <tr>\n",
       "      <th>1</th>\n",
       "      <td>awesome-llm-apps/README.md_400-960</td>\n",
       "      <td>awesome-llm-apps/README.md</td>\n",
       "      <td>&lt;hr/&gt;\\n\\n# 🌟 Awesome LLM Apps\\n\\nA curated col...</td>\n",
       "      <td>400</td>\n",
       "      <td>960</td>\n",
       "      <td>[0.0010421905, -0.045103997, -0.030151501, -0....</td>\n",
       "    </tr>\n",
       "    <tr>\n",
       "      <th>2</th>\n",
       "      <td>awesome-llm-apps/README.md_800-1242</td>\n",
       "      <td>awesome-llm-apps/README.md</td>\n",
       "      <td>## 🤔 Why Awesome LLM Apps?\\n\\n- 💡 Discover pra...</td>\n",
       "      <td>800</td>\n",
       "      <td>1242</td>\n",
       "      <td>[0.022417033, -0.018805446, -0.004326907, -0.0...</td>\n",
       "    </tr>\n",
       "    <tr>\n",
       "      <th>3</th>\n",
       "      <td>awesome-llm-apps/README.md_1200-1684</td>\n",
       "      <td>awesome-llm-apps/README.md</td>\n",
       "      <td>## 🚨 Open Source AI Agent Hackathon\\n\\nWe're l...</td>\n",
       "      <td>1200</td>\n",
       "      <td>1684</td>\n",
       "      <td>[0.034729738, -0.021361602, 0.0054266984, -0.0...</td>\n",
       "    </tr>\n",
       "    <tr>\n",
       "      <th>4</th>\n",
       "      <td>awesome-llm-apps/README.md_1600-1887</td>\n",
       "      <td>awesome-llm-apps/README.md</td>\n",
       "      <td>### Participate Now: [Global AI Agent Hackatho...</td>\n",
       "      <td>1600</td>\n",
       "      <td>1887</td>\n",
       "      <td>[0.016929517, 0.012580578, 0.025718478, -0.022...</td>\n",
       "    </tr>\n",
       "    <tr>\n",
       "      <th>...</th>\n",
       "      <td>...</td>\n",
       "      <td>...</td>\n",
       "      <td>...</td>\n",
       "      <td>...</td>\n",
       "      <td>...</td>\n",
       "      <td>...</td>\n",
       "    </tr>\n",
       "    <tr>\n",
       "      <th>408</th>\n",
       "      <td>awesome-llm-apps/advanced_ai_agents/multi_agen...</td>\n",
       "      <td>ai_teaching_agent_team/README.md</td>\n",
       "      <td>#### 📚 Research Librarian Agent\\n- Compiles re...</td>\n",
       "      <td>800</td>\n",
       "      <td>1244</td>\n",
       "      <td>[-0.005510044, -0.0033797089, -0.036461193, 0....</td>\n",
       "    </tr>\n",
       "    <tr>\n",
       "      <th>409</th>\n",
       "      <td>awesome-llm-apps/advanced_ai_agents/multi_agen...</td>\n",
       "      <td>ai_teaching_agent_team/README.md</td>\n",
       "      <td>## How to Run\\n\\n1. Clone the repository\\n  ``...</td>\n",
       "      <td>1200</td>\n",
       "      <td>1649</td>\n",
       "      <td>[0.033764236, -0.017298423, -0.014950359, -0.0...</td>\n",
       "    </tr>\n",
       "    <tr>\n",
       "      <th>410</th>\n",
       "      <td>awesome-llm-apps/advanced_ai_agents/multi_agen...</td>\n",
       "      <td>ai_teaching_agent_team/README.md</td>\n",
       "      <td>2. Get your Composio API Key\\n- Create an acco...</td>\n",
       "      <td>1600</td>\n",
       "      <td>1969</td>\n",
       "      <td>[-0.012881822, 0.019202609, -0.05184871, -0.03...</td>\n",
       "    </tr>\n",
       "    <tr>\n",
       "      <th>411</th>\n",
       "      <td>awesome-llm-apps/advanced_ai_agents/multi_agen...</td>\n",
       "      <td>ai_teaching_agent_team/README.md</td>\n",
       "      <td>- composio add googledocs (IN THE TERMINAL)\\n ...</td>\n",
       "      <td>2000</td>\n",
       "      <td>2358</td>\n",
       "      <td>[0.002119459, 0.0063326885, -0.04101504, -0.02...</td>\n",
       "    </tr>\n",
       "    <tr>\n",
       "      <th>412</th>\n",
       "      <td>awesome-llm-apps/advanced_ai_agents/multi_agen...</td>\n",
       "      <td>ai_teaching_agent_team/README.md</td>\n",
       "      <td>3. Sign up and get the [SerpAPI Key](https://s...</td>\n",
       "      <td>2400</td>\n",
       "      <td>2936</td>\n",
       "      <td>[0.034681547, 0.0167156, -0.027704068, -0.0207...</td>\n",
       "    </tr>\n",
       "  </tbody>\n",
       "</table>\n",
       "<p>413 rows × 6 columns</p>\n",
       "</div>"
      ],
      "text/plain": [
       "                                                    id   \n",
       "0                     awesome-llm-apps/README.md_0-521  \\\n",
       "1                   awesome-llm-apps/README.md_400-960   \n",
       "2                  awesome-llm-apps/README.md_800-1242   \n",
       "3                 awesome-llm-apps/README.md_1200-1684   \n",
       "4                 awesome-llm-apps/README.md_1600-1887   \n",
       "..                                                 ...   \n",
       "408  awesome-llm-apps/advanced_ai_agents/multi_agen...   \n",
       "409  awesome-llm-apps/advanced_ai_agents/multi_agen...   \n",
       "410  awesome-llm-apps/advanced_ai_agents/multi_agen...   \n",
       "411  awesome-llm-apps/advanced_ai_agents/multi_agen...   \n",
       "412  awesome-llm-apps/advanced_ai_agents/multi_agen...   \n",
       "\n",
       "                              file_id   \n",
       "0          awesome-llm-apps/README.md  \\\n",
       "1          awesome-llm-apps/README.md   \n",
       "2          awesome-llm-apps/README.md   \n",
       "3          awesome-llm-apps/README.md   \n",
       "4          awesome-llm-apps/README.md   \n",
       "..                                ...   \n",
       "408  ai_teaching_agent_team/README.md   \n",
       "409  ai_teaching_agent_team/README.md   \n",
       "410  ai_teaching_agent_team/README.md   \n",
       "411  ai_teaching_agent_team/README.md   \n",
       "412  ai_teaching_agent_team/README.md   \n",
       "\n",
       "                                               content  start_pos  end_pos   \n",
       "0    <p align=\"center\">\\n  <a href=\"http://www.theu...          0      521  \\\n",
       "1    <hr/>\\n\\n# 🌟 Awesome LLM Apps\\n\\nA curated col...        400      960   \n",
       "2    ## 🤔 Why Awesome LLM Apps?\\n\\n- 💡 Discover pra...        800     1242   \n",
       "3    ## 🚨 Open Source AI Agent Hackathon\\n\\nWe're l...       1200     1684   \n",
       "4    ### Participate Now: [Global AI Agent Hackatho...       1600     1887   \n",
       "..                                                 ...        ...      ...   \n",
       "408  #### 📚 Research Librarian Agent\\n- Compiles re...        800     1244   \n",
       "409  ## How to Run\\n\\n1. Clone the repository\\n  ``...       1200     1649   \n",
       "410  2. Get your Composio API Key\\n- Create an acco...       1600     1969   \n",
       "411  - composio add googledocs (IN THE TERMINAL)\\n ...       2000     2358   \n",
       "412  3. Sign up and get the [SerpAPI Key](https://s...       2400     2936   \n",
       "\n",
       "                                             embedding  \n",
       "0    [0.003139447, -0.021057991, -0.043931056, -0.0...  \n",
       "1    [0.0010421905, -0.045103997, -0.030151501, -0....  \n",
       "2    [0.022417033, -0.018805446, -0.004326907, -0.0...  \n",
       "3    [0.034729738, -0.021361602, 0.0054266984, -0.0...  \n",
       "4    [0.016929517, 0.012580578, 0.025718478, -0.022...  \n",
       "..                                                 ...  \n",
       "408  [-0.005510044, -0.0033797089, -0.036461193, 0....  \n",
       "409  [0.033764236, -0.017298423, -0.014950359, -0.0...  \n",
       "410  [-0.012881822, 0.019202609, -0.05184871, -0.03...  \n",
       "411  [0.002119459, 0.0063326885, -0.04101504, -0.02...  \n",
       "412  [0.034681547, 0.0167156, -0.027704068, -0.0207...  \n",
       "\n",
       "[413 rows x 6 columns]"
      ]
     },
     "execution_count": 36,
     "metadata": {},
     "output_type": "execute_result"
    }
   ],
   "source": [
    "import json\n",
    "import pandas as pd\n",
    "\n",
    "with open('embeddings.json', 'r') as f:\n",
    "    data = json.load(f)\n",
    "\n",
    "\n",
    "df = pd.DataFrame(data)\n",
    "\n",
    "# truncate file_id to last 2 parts\n",
    "df['file_id'] = df['file_id'].apply(lambda x: '/'.join(x.split('/')[-2:]))\n",
    "df"
   ]
  },
  {
   "cell_type": "markdown",
   "metadata": {},
   "source": [
    "## t-SNE "
   ]
  },
  {
   "cell_type": "code",
   "execution_count": 37,
   "metadata": {},
   "outputs": [
    {
     "data": {
      "text/plain": [
       "array([[-7.8425083, 14.924624 ],\n",
       "       [-7.489703 , 14.251944 ],\n",
       "       [-7.0891323, 13.717144 ],\n",
       "       [-6.7778482, 13.311465 ],\n",
       "       [-6.4205666, 12.866445 ]], dtype=float32)"
      ]
     },
     "execution_count": 37,
     "metadata": {},
     "output_type": "execute_result"
    }
   ],
   "source": [
    "import numpy as np\n",
    "\n",
    "perplexity    = 30\n",
    "n_iter        = 300\n",
    "learning_rate = 200\n",
    "random_state  = 42\n",
    "\n",
    "embeddings_matrix = np.array(df['embedding'].tolist())\n",
    "\n",
    "# perplexity must be less than n_samples\n",
    "if embeddings_matrix.shape[0] <= perplexity:\n",
    "    print(f\"Perplexity ({perplexity}) is too high for the number of samples ({embeddings_matrix.shape[0]}). Setting perplexity to {max(1, embeddings_matrix.shape[0] - 1)}.\")\n",
    "    perplexity = max(1, embeddings_matrix.shape[0] - 1)\n",
    "\n",
    "\n",
    "tsne = TSNE(\n",
    "    n_components=2,\n",
    "    perplexity=perplexity,\n",
    "    max_iter=n_iter,\n",
    "    learning_rate=learning_rate,\n",
    "    random_state=random_state,\n",
    "    init='pca', # Use PCA initialization for stability\n",
    "    n_jobs=-1 # Use all available CPU cores\n",
    ")\n",
    "projections = tsne.fit_transform(embeddings_matrix)\n",
    "projections[:5]"
   ]
  },
  {
   "cell_type": "code",
   "execution_count": 38,
   "metadata": {},
   "outputs": [
    {
     "data": {
      "application/vnd.plotly.v1+json": {
       "config": {
        "plotlyServerURL": "https://plot.ly"
       },
       "data": [
        {
         "hovertemplate": "file_id=awesome-llm-apps/README.md<br>0=%{x}<br>1=%{y}<extra></extra>",
         "legendgroup": "awesome-llm-apps/README.md",
         "marker": {
          "color": "#636efa",
          "symbol": "circle"
         },
         "mode": "markers",
         "name": "awesome-llm-apps/README.md",
         "orientation": "v",
         "showlegend": true,
         "type": "scatter",
         "x": {
          "bdata": "1PX6wKar78As2uLAIuTYwEh1zcDPO4vA6PyOwC5TjsDdc0nAv6tbwIP8YsB8tGLAziOlPydwL8DRWCzA87iHwBtN3UCtAcpAFUy+QH+sjMChrovArMaTwDsIjMCOHovAtD4YPy1Wyj4wSPw+T+j3wA==",
          "dtype": "f4"
         },
         "xaxis": "x",
         "y": {
          "bdata": "Q8tuQfYHZEFseVtBw/tUQfXcTUFjas9AcS7MQNAdy0Bw9AJBznfjQFHr4EDEyd5A0MgMQfYX5EAaJeJA3WatQPLXOcHorDnBtI85wXvzmUBqwmpAJpYfQGYuTkB3yT9Atu3mwO+58MA8if/AU8FqQQ==",
          "dtype": "f4"
         },
         "yaxis": "y"
        },
        {
         "hovertemplate": "file_id=github_mcp_agent/README.md<br>0=%{x}<br>1=%{y}<extra></extra>",
         "legendgroup": "github_mcp_agent/README.md",
         "marker": {
          "color": "#EF553B",
          "symbol": "circle"
         },
         "mode": "markers",
         "name": "github_mcp_agent/README.md",
         "orientation": "v",
         "showlegend": true,
         "type": "scatter",
         "x": {
          "bdata": "FzkUQbpxF0GzflI/aiHnwJkagb+5iBhB",
          "dtype": "f4"
         },
         "xaxis": "x",
         "y": {
          "bdata": "ymnPQK4G70AjySPBZRLmwDzsQ8E9EPZA",
          "dtype": "f4"
         },
         "yaxis": "y"
        },
        {
         "hovertemplate": "file_id=browser_mcp_agent/README.md<br>0=%{x}<br>1=%{y}<extra></extra>",
         "legendgroup": "browser_mcp_agent/README.md",
         "marker": {
          "color": "#00cc96",
          "symbol": "circle"
         },
         "mode": "markers",
         "name": "browser_mcp_agent/README.md",
         "orientation": "v",
         "showlegend": true,
         "type": "scatter",
         "x": {
          "bdata": "7KgTQf50A0HMo1o/DA/awA24G0HfTBNB",
          "dtype": "f4"
         },
         "xaxis": "x",
         "y": {
          "bdata": "kjG/QGcCp0AYvCPBvi3jwNkopECSIbBA",
          "dtype": "f4"
         },
         "yaxis": "y"
        },
        {
         "hovertemplate": "file_id=llm_router_app/README.md<br>0=%{x}<br>1=%{y}<extra></extra>",
         "legendgroup": "llm_router_app/README.md",
         "marker": {
          "color": "#ab63fa",
          "symbol": "circle"
         },
         "mode": "markers",
         "name": "llm_router_app/README.md",
         "orientation": "v",
         "showlegend": true,
         "type": "scatter",
         "x": {
          "bdata": "FoXlPzvZzT+OlcTAPXfhPzdplr8=",
          "dtype": "f4"
         },
         "xaxis": "x",
         "y": {
          "bdata": "NDtLwaKnQsHHVN7AoghJwVOImkA=",
          "dtype": "f4"
         },
         "yaxis": "y"
        },
        {
         "hovertemplate": "file_id=local_chatgpt_clone/README.md<br>0=%{x}<br>1=%{y}<extra></extra>",
         "legendgroup": "local_chatgpt_clone/README.md",
         "marker": {
          "color": "#FFA15A",
          "symbol": "circle"
         },
         "mode": "markers",
         "name": "local_chatgpt_clone/README.md",
         "orientation": "v",
         "showlegend": true,
         "type": "scatter",
         "x": {
          "bdata": "BaK4QKKxpT/6R6o/",
          "dtype": "f4"
         },
         "xaxis": "x",
         "y": {
          "bdata": "xQaNwOGRlcA5HY7A",
          "dtype": "f4"
         },
         "yaxis": "y"
        },
        {
         "hovertemplate": "file_id=ai_arxiv_agent_memory/README.md<br>0=%{x}<br>1=%{y}<extra></extra>",
         "legendgroup": "ai_arxiv_agent_memory/README.md",
         "marker": {
          "color": "#19d3f3",
          "symbol": "circle"
         },
         "mode": "markers",
         "name": "ai_arxiv_agent_memory/README.md",
         "orientation": "v",
         "showlegend": true,
         "type": "scatter",
         "x": {
          "bdata": "qHubQIxVZ0D33ojA",
          "dtype": "f4"
         },
         "xaxis": "x",
         "y": {
          "bdata": "4GnSP8urUcBkhWS/",
          "dtype": "f4"
         },
         "yaxis": "y"
        },
        {
         "hovertemplate": "file_id=llm_app_personalized_memory/README.md<br>0=%{x}<br>1=%{y}<extra></extra>",
         "legendgroup": "llm_app_personalized_memory/README.md",
         "marker": {
          "color": "#FF6692",
          "symbol": "circle"
         },
         "mode": "markers",
         "name": "llm_app_personalized_memory/README.md",
         "orientation": "v",
         "showlegend": true,
         "type": "scatter",
         "x": {
          "bdata": "kbaTQEOoLkBUSYTA",
          "dtype": "f4"
         },
         "xaxis": "x",
         "y": {
          "bdata": "TQKfPpViqsCd9gK/",
          "dtype": "f4"
         },
         "yaxis": "y"
        },
        {
         "hovertemplate": "file_id=local_chatgpt_with_memory/README.md<br>0=%{x}<br>1=%{y}<extra></extra>",
         "legendgroup": "local_chatgpt_with_memory/README.md",
         "marker": {
          "color": "#B6E880",
          "symbol": "circle"
         },
         "mode": "markers",
         "name": "local_chatgpt_with_memory/README.md",
         "orientation": "v",
         "showlegend": true,
         "type": "scatter",
         "x": {
          "bdata": "5I23QNjPVkDlunLA",
          "dtype": "f4"
         },
         "xaxis": "x",
         "y": {
          "bdata": "cdCFwDxPxcCuBr++",
          "dtype": "f4"
         },
         "yaxis": "y"
        },
        {
         "hovertemplate": "file_id=ai_travel_agent_memory/README.md<br>0=%{x}<br>1=%{y}<extra></extra>",
         "legendgroup": "ai_travel_agent_memory/README.md",
         "marker": {
          "color": "#FF97FF",
          "symbol": "circle"
         },
         "mode": "markers",
         "name": "ai_travel_agent_memory/README.md",
         "orientation": "v",
         "showlegend": true,
         "type": "scatter",
         "x": {
          "bdata": "VPWaQHl4JEAVNuQ/",
          "dtype": "f4"
         },
         "xaxis": "x",
         "y": {
          "bdata": "Wk1RPxUtsMBkHltB",
          "dtype": "f4"
         },
         "yaxis": "y"
        },
        {
         "hovertemplate": "file_id=multi_llm_memory/README.md<br>0=%{x}<br>1=%{y}<extra></extra>",
         "legendgroup": "multi_llm_memory/README.md",
         "marker": {
          "color": "#FECB52",
          "symbol": "circle"
         },
         "mode": "markers",
         "name": "multi_llm_memory/README.md",
         "orientation": "v",
         "showlegend": true,
         "type": "scatter",
         "x": {
          "bdata": "eKGKQCzrSkCBR4PA",
          "dtype": "f4"
         },
         "xaxis": "x",
         "y": {
          "bdata": "QgrkvYPMmcD2jjW/",
          "dtype": "f4"
         },
         "yaxis": "y"
        },
        {
         "hovertemplate": "file_id=chat_with_youtube_videos/README.md<br>0=%{x}<br>1=%{y}<extra></extra>",
         "legendgroup": "chat_with_youtube_videos/README.md",
         "marker": {
          "color": "#636efa",
          "symbol": "circle"
         },
         "mode": "markers",
         "name": "chat_with_youtube_videos/README.md",
         "orientation": "v",
         "showlegend": true,
         "type": "scatter",
         "x": {
          "bdata": "ZlQEQX7tA0FSbL7A",
          "dtype": "f4"
         },
         "xaxis": "x",
         "y": {
          "bdata": "f3cWwUqpG8HvZOTA",
          "dtype": "f4"
         },
         "yaxis": "y"
        },
        {
         "hovertemplate": "file_id=chat_with_gmail/README.md<br>0=%{x}<br>1=%{y}<extra></extra>",
         "legendgroup": "chat_with_gmail/README.md",
         "marker": {
          "color": "#EF553B",
          "symbol": "circle"
         },
         "mode": "markers",
         "name": "chat_with_gmail/README.md",
         "orientation": "v",
         "showlegend": true,
         "type": "scatter",
         "x": {
          "bdata": "Mw3mQBKC5b+wqAzA79W5wA==",
          "dtype": "f4"
         },
         "xaxis": "x",
         "y": {
          "bdata": "ylkQwR6vJ8EShSnBGDnqwA==",
          "dtype": "f4"
         },
         "yaxis": "y"
        },
        {
         "hovertemplate": "file_id=chat_with_github/README.md<br>0=%{x}<br>1=%{y}<extra></extra>",
         "legendgroup": "chat_with_github/README.md",
         "marker": {
          "color": "#00cc96",
          "symbol": "circle"
         },
         "mode": "markers",
         "name": "chat_with_github/README.md",
         "orientation": "v",
         "showlegend": true,
         "type": "scatter",
         "x": {
          "bdata": "u/T8QAVtVb82jEy/uwoTv+j4DkA=",
          "dtype": "f4"
         },
         "xaxis": "x",
         "y": {
          "bdata": "RxIQwfC+GsEbgjvByAU+wfDQgL8=",
          "dtype": "f4"
         },
         "yaxis": "y"
        },
        {
         "hovertemplate": "file_id=chat_with_research_papers/README.md<br>0=%{x}<br>1=%{y}<extra></extra>",
         "legendgroup": "chat_with_research_papers/README.md",
         "marker": {
          "color": "#ab63fa",
          "symbol": "circle"
         },
         "mode": "markers",
         "name": "chat_with_research_papers/README.md",
         "orientation": "v",
         "showlegend": true,
         "type": "scatter",
         "x": {
          "bdata": "7rUHQUrYIb8=",
          "dtype": "f4"
         },
         "xaxis": "x",
         "y": {
          "bdata": "zyGOwI2qEME=",
          "dtype": "f4"
         },
         "yaxis": "y"
        },
        {
         "hovertemplate": "file_id=chat_with_pdf/README.md<br>0=%{x}<br>1=%{y}<extra></extra>",
         "legendgroup": "chat_with_pdf/README.md",
         "marker": {
          "color": "#FFA15A",
          "symbol": "circle"
         },
         "mode": "markers",
         "name": "chat_with_pdf/README.md",
         "orientation": "v",
         "showlegend": true,
         "type": "scatter",
         "x": {
          "bdata": "jPjjQGBTJr8=",
          "dtype": "f4"
         },
         "xaxis": "x",
         "y": {
          "bdata": "LQwNwX21EME=",
          "dtype": "f4"
         },
         "yaxis": "y"
        },
        {
         "hovertemplate": "file_id=chat_with_substack/README.md<br>0=%{x}<br>1=%{y}<extra></extra>",
         "legendgroup": "chat_with_substack/README.md",
         "marker": {
          "color": "#19d3f3",
          "symbol": "circle"
         },
         "mode": "markers",
         "name": "chat_with_substack/README.md",
         "orientation": "v",
         "showlegend": true,
         "type": "scatter",
         "x": {
          "bdata": "wmbxPcl4R78=",
          "dtype": "f4"
         },
         "xaxis": "x",
         "y": {
          "bdata": "jHJTwRlpFME=",
          "dtype": "f4"
         },
         "yaxis": "y"
        },
        {
         "hovertemplate": "file_id=llama3.2_finetuning/README.md<br>0=%{x}<br>1=%{y}<extra></extra>",
         "legendgroup": "llama3.2_finetuning/README.md",
         "marker": {
          "color": "#FF6692",
          "symbol": "circle"
         },
         "mode": "markers",
         "name": "llama3.2_finetuning/README.md",
         "orientation": "v",
         "showlegend": true,
         "type": "scatter",
         "x": {
          "bdata": "QHZ9QXCidUEtZ35BanuAQby3gUExCIJB",
          "dtype": "f4"
         },
         "xaxis": "x",
         "y": {
          "bdata": "InHkvr+rZb8kysm+ay9vvmmqVz9p22g/",
          "dtype": "f4"
         },
         "yaxis": "y"
        },
        {
         "hovertemplate": "file_id=ai_breakup_recovery_agent/README.md<br>0=%{x}<br>1=%{y}<extra></extra>",
         "legendgroup": "ai_breakup_recovery_agent/README.md",
         "marker": {
          "color": "#B6E880",
          "symbol": "circle"
         },
         "mode": "markers",
         "name": "ai_breakup_recovery_agent/README.md",
         "orientation": "v",
         "showlegend": true,
         "type": "scatter",
         "x": {
          "bdata": "FZ/BQNM/3EDjS+dAgUu0QDCGsEB2WvDAQhPeQEGV1UD/Z9VA",
          "dtype": "f4"
         },
         "xaxis": "x",
         "y": {
          "bdata": "2jBGv1z9sr9iZea/Abfzv6rOBcDn2hbBzy/Uvy8eKb9mZ+O+",
          "dtype": "f4"
         },
         "yaxis": "y"
        },
        {
         "hovertemplate": "file_id=ai_blog_to_podcast_agent/README.md<br>0=%{x}<br>1=%{y}<extra></extra>",
         "legendgroup": "ai_blog_to_podcast_agent/README.md",
         "marker": {
          "color": "#FF97FF",
          "symbol": "circle"
         },
         "mode": "markers",
         "name": "ai_blog_to_podcast_agent/README.md",
         "orientation": "v",
         "showlegend": true,
         "type": "scatter",
         "x": {
          "bdata": "iGRLwGCEXMCEqj7AiB87wDoPYMA=",
          "dtype": "f4"
         },
         "xaxis": "x",
         "y": {
          "bdata": "R+KAwdWXgcEKfHXBqw94wf8WgcE=",
          "dtype": "f4"
         },
         "yaxis": "y"
        },
        {
         "hovertemplate": "file_id=local_news_agent_openai_swarm/README.md<br>0=%{x}<br>1=%{y}<extra></extra>",
         "legendgroup": "local_news_agent_openai_swarm/README.md",
         "marker": {
          "color": "#FECB52",
          "symbol": "circle"
         },
         "mode": "markers",
         "name": "local_news_agent_openai_swarm/README.md",
         "orientation": "v",
         "showlegend": true,
         "type": "scatter",
         "x": {
          "bdata": "NsewQGTW9D8satM/",
          "dtype": "f4"
         },
         "xaxis": "x",
         "y": {
          "bdata": "pK4VQMJvUcBeMGLA",
          "dtype": "f4"
         },
         "yaxis": "y"
        },
        {
         "hovertemplate": "file_id=ai_music_generator_agent/README.md<br>0=%{x}<br>1=%{y}<extra></extra>",
         "legendgroup": "ai_music_generator_agent/README.md",
         "marker": {
          "color": "#636efa",
          "symbol": "circle"
         },
         "mode": "markers",
         "name": "ai_music_generator_agent/README.md",
         "orientation": "v",
         "showlegend": true,
         "type": "scatter",
         "x": {
          "bdata": "R23VwBBt1cAo8YbA0v+IwA==",
          "dtype": "f4"
         },
         "xaxis": "x",
         "y": {
          "bdata": "+sgJwKvaDMDOI7/Acx69wA==",
          "dtype": "f4"
         },
         "yaxis": "y"
        },
        {
         "hovertemplate": "file_id=xai_finance_agent/README.md<br>0=%{x}<br>1=%{y}<extra></extra>",
         "legendgroup": "xai_finance_agent/README.md",
         "marker": {
          "color": "#EF553B",
          "symbol": "circle"
         },
         "mode": "markers",
         "name": "xai_finance_agent/README.md",
         "orientation": "v",
         "showlegend": true,
         "type": "scatter",
         "x": {
          "bdata": "OKMmwYGuLMEzFCrB",
          "dtype": "f4"
         },
         "xaxis": "x",
         "y": {
          "bdata": "gnKlQKWiKkA9+DhA",
          "dtype": "f4"
         },
         "yaxis": "y"
        },
        {
         "hovertemplate": "file_id=opeani_research_agent/README.md<br>0=%{x}<br>1=%{y}<extra></extra>",
         "legendgroup": "opeani_research_agent/README.md",
         "marker": {
          "color": "#00cc96",
          "symbol": "circle"
         },
         "mode": "markers",
         "name": "opeani_research_agent/README.md",
         "orientation": "v",
         "showlegend": true,
         "type": "scatter",
         "x": {
          "bdata": "OwufQPWcj8A9aTLAX1+vwFreqcA=",
          "dtype": "f4"
         },
         "xaxis": "x",
         "y": {
          "bdata": "GjFPQFNkisBmmt3AXkeXwO8biMA=",
          "dtype": "f4"
         },
         "yaxis": "y"
        },
        {
         "hovertemplate": "file_id=ai_reasoning_agent/README.md<br>0=%{x}<br>1=%{y}<extra></extra>",
         "legendgroup": "ai_reasoning_agent/README.md",
         "marker": {
          "color": "#ab63fa",
          "symbol": "circle"
         },
         "mode": "markers",
         "name": "ai_reasoning_agent/README.md",
         "orientation": "v",
         "showlegend": true,
         "type": "scatter",
         "x": {
          "bdata": "ffExv5Y+2cDULC3AcYTdwIEjL78=",
          "dtype": "f4"
         },
         "xaxis": "x",
         "y": {
          "bdata": "j74VQTSUGEAQv/3AvbcMQDbNFUE=",
          "dtype": "f4"
         },
         "yaxis": "y"
        },
        {
         "hovertemplate": "file_id=ai_meme_generator_agent_browseruse/README.md<br>0=%{x}<br>1=%{y}<extra></extra>",
         "legendgroup": "ai_meme_generator_agent_browseruse/README.md",
         "marker": {
          "color": "#FFA15A",
          "symbol": "circle"
         },
         "mode": "markers",
         "name": "ai_meme_generator_agent_browseruse/README.md",
         "orientation": "v",
         "showlegend": true,
         "type": "scatter",
         "x": {
          "bdata": "k47lvnM5Db+0xRy/2V6Gvw==",
          "dtype": "f4"
         },
         "xaxis": "x",
         "y": {
          "bdata": "ihOlvrKEUb5Y/BK/sHC1vw==",
          "dtype": "f4"
         },
         "yaxis": "y"
        },
        {
         "hovertemplate": "file_id=multimodal_ai_agent/README.md<br>0=%{x}<br>1=%{y}<extra></extra>",
         "legendgroup": "multimodal_ai_agent/README.md",
         "marker": {
          "color": "#19d3f3",
          "symbol": "circle"
         },
         "mode": "markers",
         "name": "multimodal_ai_agent/README.md",
         "orientation": "v",
         "showlegend": true,
         "type": "scatter",
         "x": {
          "bdata": "vA3VQMh5bsA=",
          "dtype": "f4"
         },
         "xaxis": "x",
         "y": {
          "bdata": "Rf7DQJpGGsE=",
          "dtype": "f4"
         },
         "yaxis": "y"
        },
        {
         "hovertemplate": "file_id=ai_data_analysis_agent/README.md<br>0=%{x}<br>1=%{y}<extra></extra>",
         "legendgroup": "ai_data_analysis_agent/README.md",
         "marker": {
          "color": "#FF6692",
          "symbol": "circle"
         },
         "mode": "markers",
         "name": "ai_data_analysis_agent/README.md",
         "orientation": "v",
         "showlegend": true,
         "type": "scatter",
         "x": {
          "bdata": "dJTkvpkWA79dl5HAS+i3wA==",
          "dtype": "f4"
         },
         "xaxis": "x",
         "y": {
          "bdata": "rJMBQWLs/UAsqO/AKG+6wA==",
          "dtype": "f4"
         },
         "yaxis": "y"
        },
        {
         "hovertemplate": "file_id=ai_startup_trend_analysis_agent/README.md<br>0=%{x}<br>1=%{y}<extra></extra>",
         "legendgroup": "ai_startup_trend_analysis_agent/README.md",
         "marker": {
          "color": "#B6E880",
          "symbol": "circle"
         },
         "mode": "markers",
         "name": "ai_startup_trend_analysis_agent/README.md",
         "orientation": "v",
         "showlegend": true,
         "type": "scatter",
         "x": {
          "bdata": "AgrZvx/HbL9rF3m/bq9tv4jmgr/Br2PADXmEwA==",
          "dtype": "f4"
         },
         "xaxis": "x",
         "y": {
          "bdata": "MlEsQeb0PkES5j5BbV86QXIuOUEzNwXBhmMHwQ==",
          "dtype": "f4"
         },
         "yaxis": "y"
        },
        {
         "hovertemplate": "file_id=ai_data_visualisation_agent/README.md<br>0=%{x}<br>1=%{y}<extra></extra>",
         "legendgroup": "ai_data_visualisation_agent/README.md",
         "marker": {
          "color": "#FF97FF",
          "symbol": "circle"
         },
         "mode": "markers",
         "name": "ai_data_visualisation_agent/README.md",
         "orientation": "v",
         "showlegend": true,
         "type": "scatter",
         "x": {
          "bdata": "nifFPvLs/7859wnAjYmPwA==",
          "dtype": "f4"
         },
         "xaxis": "x",
         "y": {
          "bdata": "Q6QFQTV7EEFEGBBBNnPwwA==",
          "dtype": "f4"
         },
         "yaxis": "y"
        },
        {
         "hovertemplate": "file_id=ai_medical_imaging_agent/README.md<br>0=%{x}<br>1=%{y}<extra></extra>",
         "legendgroup": "ai_medical_imaging_agent/README.md",
         "marker": {
          "color": "#FECB52",
          "symbol": "circle"
         },
         "mode": "markers",
         "name": "ai_medical_imaging_agent/README.md",
         "orientation": "v",
         "showlegend": true,
         "type": "scatter",
         "x": {
          "bdata": "Jrx+QArjy8C1Os7AhsQSwTogEsE=",
          "dtype": "f4"
         },
         "xaxis": "x",
         "y": {
          "bdata": "5eNHwfa2P8ExtkDBRB02QaRsNUE=",
          "dtype": "f4"
         },
         "yaxis": "y"
        },
        {
         "hovertemplate": "file_id=web_scrapping_ai_agent/README.md<br>0=%{x}<br>1=%{y}<extra></extra>",
         "legendgroup": "web_scrapping_ai_agent/README.md",
         "marker": {
          "color": "#636efa",
          "symbol": "circle"
         },
         "mode": "markers",
         "name": "web_scrapping_ai_agent/README.md",
         "orientation": "v",
         "showlegend": true,
         "type": "scatter",
         "x": {
          "bdata": "LCULQZIxIsATnxFBl2cRQQ==",
          "dtype": "f4"
         },
         "xaxis": "x",
         "y": {
          "bdata": "HRyMPzbUtsDhRKk/Il6zPw==",
          "dtype": "f4"
         },
         "yaxis": "y"
        },
        {
         "hovertemplate": "file_id=customer_support_voice_agent/README.md<br>0=%{x}<br>1=%{y}<extra></extra>",
         "legendgroup": "customer_support_voice_agent/README.md",
         "marker": {
          "color": "#EF553B",
          "symbol": "circle"
         },
         "mode": "markers",
         "name": "customer_support_voice_agent/README.md",
         "orientation": "v",
         "showlegend": true,
         "type": "scatter",
         "x": {
          "bdata": "KBj+P4F1zz+aDJG/ixUQv553Vb+HZeE/5qecPw==",
          "dtype": "f4"
         },
         "xaxis": "x",
         "y": {
          "bdata": "bgy6QOl1rUD6dJPAU9KNwNIshcCuqZ5AkeicQA==",
          "dtype": "f4"
         },
         "yaxis": "y"
        },
        {
         "hovertemplate": "file_id=voice_rag_openaisdk/README.md<br>0=%{x}<br>1=%{y}<extra></extra>",
         "legendgroup": "voice_rag_openaisdk/README.md",
         "marker": {
          "color": "#00cc96",
          "symbol": "circle"
         },
         "mode": "markers",
         "name": "voice_rag_openaisdk/README.md",
         "orientation": "v",
         "showlegend": true,
         "type": "scatter",
         "x": {
          "bdata": "rZYGQR0d/0AGK45A8YaRQAdr9kD5Agy/4Ab7vg==",
          "dtype": "f4"
         },
         "xaxis": "x",
         "y": {
          "bdata": "lMLWwIZ73sBG/gnBU9m0wHan3MAMDZxAGKadQA==",
          "dtype": "f4"
         },
         "yaxis": "y"
        },
        {
         "hovertemplate": "file_id=ai_audio_tour_agent/README.md<br>0=%{x}<br>1=%{y}<extra></extra>",
         "legendgroup": "ai_audio_tour_agent/README.md",
         "marker": {
          "color": "#ab63fa",
          "symbol": "circle"
         },
         "mode": "markers",
         "name": "ai_audio_tour_agent/README.md",
         "orientation": "v",
         "showlegend": true,
         "type": "scatter",
         "x": {
          "bdata": "MjEIQT0XCkEG8wtB26d8v6rb1r8=",
          "dtype": "f4"
         },
         "xaxis": "x",
         "y": {
          "bdata": "pihnQKRCZ0AZUWZAyWHhwFKf3MA=",
          "dtype": "f4"
         },
         "yaxis": "y"
        },
        {
         "hovertemplate": "file_id=rag_chain/README.md<br>0=%{x}<br>1=%{y}<extra></extra>",
         "legendgroup": "rag_chain/README.md",
         "marker": {
          "color": "#FFA15A",
          "symbol": "circle"
         },
         "mode": "markers",
         "name": "rag_chain/README.md",
         "orientation": "v",
         "showlegend": true,
         "type": "scatter",
         "x": {
          "bdata": "pZbTP6sp0z/aUKC/hTffvwa7FcCdnXJBqHVxQQ==",
          "dtype": "f4"
         },
         "xaxis": "x",
         "y": {
          "bdata": "j0p/QbHLfkH3VRRAqyEmQN8pFsB3VSdBfrknQQ==",
          "dtype": "f4"
         },
         "yaxis": "y"
        },
        {
         "hovertemplate": "file_id=deepseek_local_rag_agent/README.md<br>0=%{x}<br>1=%{y}<extra></extra>",
         "legendgroup": "deepseek_local_rag_agent/README.md",
         "marker": {
          "color": "#19d3f3",
          "symbol": "circle"
         },
         "mode": "markers",
         "name": "deepseek_local_rag_agent/README.md",
         "orientation": "v",
         "showlegend": true,
         "type": "scatter",
         "x": {
          "bdata": "Xc6qPwxEcz91YRQ/7xPYQNJUz0DK4D9A",
          "dtype": "f4"
         },
         "xaxis": "x",
         "y": {
          "bdata": "xcQKQHxTPkAsw3BAVZxKQc1LVEGbqxzB",
          "dtype": "f4"
         },
         "yaxis": "y"
        },
        {
         "hovertemplate": "file_id=rag-as-a-service/README.md<br>0=%{x}<br>1=%{y}<extra></extra>",
         "legendgroup": "rag-as-a-service/README.md",
         "marker": {
          "color": "#FF6692",
          "symbol": "circle"
         },
         "mode": "markers",
         "name": "rag-as-a-service/README.md",
         "orientation": "v",
         "showlegend": true,
         "type": "scatter",
         "x": {
          "bdata": "u9gaQVtaiEA=",
          "dtype": "f4"
         },
         "xaxis": "x",
         "y": {
          "bdata": "N+3gwPyqEcE=",
          "dtype": "f4"
         },
         "yaxis": "y"
        },
        {
         "hovertemplate": "file_id=agentic_rag/README.md<br>0=%{x}<br>1=%{y}<extra></extra>",
         "legendgroup": "agentic_rag/README.md",
         "marker": {
          "color": "#B6E880",
          "symbol": "circle"
         },
         "mode": "markers",
         "name": "agentic_rag/README.md",
         "orientation": "v",
         "showlegend": true,
         "type": "scatter",
         "x": {
          "bdata": "6hcEwcbhgEDjXNvAT34DwQ==",
          "dtype": "f4"
         },
         "xaxis": "x",
         "y": {
          "bdata": "/4LtP4VnEMEFoNU+E2TsPw==",
          "dtype": "f4"
         },
         "yaxis": "y"
        },
        {
         "hovertemplate": "file_id=rag_agent_cohere/README.md<br>0=%{x}<br>1=%{y}<extra></extra>",
         "legendgroup": "rag_agent_cohere/README.md",
         "marker": {
          "color": "#FF97FF",
          "symbol": "circle"
         },
         "mode": "markers",
         "name": "rag_agent_cohere/README.md",
         "orientation": "v",
         "showlegend": true,
         "type": "scatter",
         "x": {
          "bdata": "u/sPQUV+jj+NbxnAjxnBQNpQa0A=",
          "dtype": "f4"
         },
         "xaxis": "x",
         "y": {
          "bdata": "Uho9wUByg0DJsVpAeg5sQaFAAcE=",
          "dtype": "f4"
         },
         "yaxis": "y"
        },
        {
         "hovertemplate": "file_id=hybrid_search_rag/README.md<br>0=%{x}<br>1=%{y}<extra></extra>",
         "legendgroup": "hybrid_search_rag/README.md",
         "marker": {
          "color": "#FECB52",
          "symbol": "circle"
         },
         "mode": "markers",
         "name": "hybrid_search_rag/README.md",
         "orientation": "v",
         "showlegend": true,
         "type": "scatter",
         "x": {
          "bdata": "SDUbQVN/jD/hpwbByh6hQF+cPz8urAbB",
          "dtype": "f4"
         },
         "xaxis": "x",
         "y": {
          "bdata": "c/fIwMkNZUC6zCW/qGP6wOerB8DynpS+",
          "dtype": "f4"
         },
         "yaxis": "y"
        },
        {
         "hovertemplate": "file_id=ai_blog_search/README.md<br>0=%{x}<br>1=%{y}<extra></extra>",
         "legendgroup": "ai_blog_search/README.md",
         "marker": {
          "color": "#636efa",
          "symbol": "circle"
         },
         "mode": "markers",
         "name": "ai_blog_search/README.md",
         "orientation": "v",
         "showlegend": true,
         "type": "scatter",
         "x": {
          "bdata": "aZnoQADwTECt5GJAGBiWv78aoL8qKxPAnZ1yQah1cUE0GWdB",
          "dtype": "f4"
         },
         "xaxis": "x",
         "y": {
          "bdata": "z5ZDwcyfc0DggnNAf5APQLjhA0DgQBfAd1UnQX65J0EbfitB",
          "dtype": "f4"
         },
         "yaxis": "y"
        },
        {
         "hovertemplate": "file_id=autonomous_rag/README.md<br>0=%{x}<br>1=%{y}<extra></extra>",
         "legendgroup": "autonomous_rag/README.md",
         "marker": {
          "color": "#EF553B",
          "symbol": "circle"
         },
         "mode": "markers",
         "name": "autonomous_rag/README.md",
         "orientation": "v",
         "showlegend": true,
         "type": "scatter",
         "x": {
          "bdata": "YTIOQSw9tUB5sl3A",
          "dtype": "f4"
         },
         "xaxis": "x",
         "y": {
          "bdata": "U/u7wBjoDMGPUlDB",
          "dtype": "f4"
         },
         "yaxis": "y"
        },
        {
         "hovertemplate": "file_id=gemini_agentic_rag/README.md<br>0=%{x}<br>1=%{y}<extra></extra>",
         "legendgroup": "gemini_agentic_rag/README.md",
         "marker": {
          "color": "#00cc96",
          "symbol": "circle"
         },
         "mode": "markers",
         "name": "gemini_agentic_rag/README.md",
         "orientation": "v",
         "showlegend": true,
         "type": "scatter",
         "x": {
          "bdata": "lLgOQRAWoD/A18i/nkq6QIvaOEB1HZxA",
          "dtype": "f4"
         },
         "xaxis": "x",
         "y": {
          "bdata": "hC8+wTLLiEDjpKI/NNRkQSnRHMHZKmJB",
          "dtype": "f4"
         },
         "yaxis": "y"
        },
        {
         "hovertemplate": "file_id=local_rag_agent/README.md<br>0=%{x}<br>1=%{y}<extra></extra>",
         "legendgroup": "local_rag_agent/README.md",
         "marker": {
          "color": "#ab63fa",
          "symbol": "circle"
         },
         "mode": "markers",
         "name": "local_rag_agent/README.md",
         "orientation": "v",
         "showlegend": true,
         "type": "scatter",
         "x": {
          "bdata": "UJWLQMkIW0CeX8/A",
          "dtype": "f4"
         },
         "xaxis": "x",
         "y": {
          "bdata": "/JrPwAGuzsAZ/UM+",
          "dtype": "f4"
         },
         "yaxis": "y"
        },
        {
         "hovertemplate": "file_id=llama3.1_local_rag/README.md<br>0=%{x}<br>1=%{y}<extra></extra>",
         "legendgroup": "llama3.1_local_rag/README.md",
         "marker": {
          "color": "#FFA15A",
          "symbol": "circle"
         },
         "mode": "markers",
         "name": "llama3.1_local_rag/README.md",
         "orientation": "v",
         "showlegend": true,
         "type": "scatter",
         "x": {
          "bdata": "GY/CQGcWlkCSSb9A",
          "dtype": "f4"
         },
         "xaxis": "x",
         "y": {
          "bdata": "EoatwOyC9cC7RL7A",
          "dtype": "f4"
         },
         "yaxis": "y"
        },
        {
         "hovertemplate": "file_id=local_hybrid_search_rag/README.md<br>0=%{x}<br>1=%{y}<extra></extra>",
         "legendgroup": "local_hybrid_search_rag/README.md",
         "marker": {
          "color": "#19d3f3",
          "symbol": "circle"
         },
         "mode": "markers",
         "name": "local_hybrid_search_rag/README.md",
         "orientation": "v",
         "showlegend": true,
         "type": "scatter",
         "x": {
          "bdata": "+4YXQWl6ID/bn+I+6nkOwJydGcCnU6VAsZhowYr1/sBDqDo/UWnTPg==",
          "dtype": "f4"
         },
         "xaxis": "x",
         "y": {
          "bdata": "lUfEwOi0qj1LbApARAxLPvxEpT4CqfHATwpSwT2KV8ENQwnAwQHTPw==",
          "dtype": "f4"
         },
         "yaxis": "y"
        },
        {
         "hovertemplate": "file_id=corrective_rag/README.md<br>0=%{x}<br>1=%{y}<extra></extra>",
         "legendgroup": "corrective_rag/README.md",
         "marker": {
          "color": "#FF6692",
          "symbol": "circle"
         },
         "mode": "markers",
         "name": "corrective_rag/README.md",
         "orientation": "v",
         "showlegend": true,
         "type": "scatter",
         "x": {
          "bdata": "5b78QHBY3D+hDItAWni/QAU7wEDJqN9AQuYmQA==",
          "dtype": "f4"
         },
         "xaxis": "x",
         "y": {
          "bdata": "iqpBwccRYECLUgPBDdxkQQmVcUGRT9/AxTlPQA==",
          "dtype": "f4"
         },
         "yaxis": "y"
        },
        {
         "hovertemplate": "file_id=vision_rag/README.md<br>0=%{x}<br>1=%{y}<extra></extra>",
         "legendgroup": "vision_rag/README.md",
         "marker": {
          "color": "#B6E880",
          "symbol": "circle"
         },
         "mode": "markers",
         "name": "vision_rag/README.md",
         "orientation": "v",
         "showlegend": true,
         "type": "scatter",
         "x": {
          "bdata": "1bgQQVYaQT+e9Es/SCg1QHMyNMA7GyPBRXU4QQTFNUFqUAtB/d9AQTvEDEG4TzU/0cALQQ==",
          "dtype": "f4"
         },
         "xaxis": "x",
         "y": {
          "bdata": "RHhNwYYqykAH6NxAP78GwXPqR8GTKSXBSDKsPcvQAT4vPXXB7rkZvnVueMFwh99AQgd1wQ==",
          "dtype": "f4"
         },
         "yaxis": "y"
        },
        {
         "hovertemplate": "file_id=rag_database_routing/README.md<br>0=%{x}<br>1=%{y}<extra></extra>",
         "legendgroup": "rag_database_routing/README.md",
         "marker": {
          "color": "#FF97FF",
          "symbol": "circle"
         },
         "mode": "markers",
         "name": "rag_database_routing/README.md",
         "orientation": "v",
         "showlegend": true,
         "type": "scatter",
         "x": {
          "bdata": "RiYeQZvu875CF6tAwzePQCu9pkCl2hq/gsYtQNzO1z4=",
          "dtype": "f4"
         },
         "xaxis": "x",
         "y": {
          "bdata": "Fc2swPF8x0C6nSDBe90awU3XZkGiLMdAW4YhQHiElkA=",
          "dtype": "f4"
         },
         "yaxis": "y"
        },
        {
         "hovertemplate": "file_id=ai_3dpygame_r1/README.md<br>0=%{x}<br>1=%{y}<extra></extra>",
         "legendgroup": "ai_3dpygame_r1/README.md",
         "marker": {
          "color": "#FECB52",
          "symbol": "circle"
         },
         "mode": "markers",
         "name": "ai_3dpygame_r1/README.md",
         "orientation": "v",
         "showlegend": true,
         "type": "scatter",
         "x": {
          "bdata": "DZEjQfMCC8Hz6QjBQx8NwThnI0EXKyNB",
          "dtype": "f4"
         },
         "xaxis": "x",
         "y": {
          "bdata": "gZNPQSx5msAIMaPAVTiRwK6TS0H4TEVB",
          "dtype": "f4"
         },
         "yaxis": "y"
        },
        {
         "hovertemplate": "file_id=ai_tic_tac_toe_agent/README.md<br>0=%{x}<br>1=%{y}<extra></extra>",
         "legendgroup": "ai_tic_tac_toe_agent/README.md",
         "marker": {
          "color": "#636efa",
          "symbol": "circle"
         },
         "mode": "markers",
         "name": "ai_tic_tac_toe_agent/README.md",
         "orientation": "v",
         "showlegend": true,
         "type": "scatter",
         "x": {
          "bdata": "7OYSQcmsFEGCvBHBhW/5wFeKIMH+uH5APgaAQA==",
          "dtype": "f4"
         },
         "xaxis": "x",
         "y": {
          "bdata": "XmMfQUhAH0F/RdTA94zewJ9xvcD0Wj9BGgA/QQ==",
          "dtype": "f4"
         },
         "yaxis": "y"
        },
        {
         "hovertemplate": "file_id=ai_chess_agent/README.md<br>0=%{x}<br>1=%{y}<extra></extra>",
         "legendgroup": "ai_chess_agent/README.md",
         "marker": {
          "color": "#EF553B",
          "symbol": "circle"
         },
         "mode": "markers",
         "name": "ai_chess_agent/README.md",
         "orientation": "v",
         "showlegend": true,
         "type": "scatter",
         "x": {
          "bdata": "S0wKQa9qEMHMcdnA",
          "dtype": "f4"
         },
         "xaxis": "x",
         "y": {
          "bdata": "SP4eQSJe08CzLcTA",
          "dtype": "f4"
         },
         "yaxis": "y"
        },
        {
         "hovertemplate": "file_id=ai_movie_production_agent/README.md<br>0=%{x}<br>1=%{y}<extra></extra>",
         "legendgroup": "ai_movie_production_agent/README.md",
         "marker": {
          "color": "#00cc96",
          "symbol": "circle"
         },
         "mode": "markers",
         "name": "ai_movie_production_agent/README.md",
         "orientation": "v",
         "showlegend": true,
         "type": "scatter",
         "x": {
          "bdata": "h7Fgwa0/O8Fz7lnBIjRgwQ==",
          "dtype": "f4"
         },
         "xaxis": "x",
         "y": {
          "bdata": "g5YVwXBAmsDniIvAmTUVwQ==",
          "dtype": "f4"
         },
         "yaxis": "y"
        },
        {
         "hovertemplate": "file_id=ai_personal_finance_agent/README.md<br>0=%{x}<br>1=%{y}<extra></extra>",
         "legendgroup": "ai_personal_finance_agent/README.md",
         "marker": {
          "color": "#ab63fa",
          "symbol": "circle"
         },
         "mode": "markers",
         "name": "ai_personal_finance_agent/README.md",
         "orientation": "v",
         "showlegend": true,
         "type": "scatter",
         "x": {
          "bdata": "ai0lwdCCMsGVvVjB",
          "dtype": "f4"
         },
         "xaxis": "x",
         "y": {
          "bdata": "IM7WQAYihMDL4YjA",
          "dtype": "f4"
         },
         "yaxis": "y"
        },
        {
         "hovertemplate": "file_id=ai_health_fitness_agent/README.md<br>0=%{x}<br>1=%{y}<extra></extra>",
         "legendgroup": "ai_health_fitness_agent/README.md",
         "marker": {
          "color": "#FFA15A",
          "symbol": "circle"
         },
         "mode": "markers",
         "name": "ai_health_fitness_agent/README.md",
         "orientation": "v",
         "showlegend": true,
         "type": "scatter",
         "x": {
          "bdata": "o3lJwRizScE2JKHAgpWfwPWoocA=",
          "dtype": "f4"
         },
         "xaxis": "x",
         "y": {
          "bdata": "vIoNQU0tDkH2xTDBDC0kwWaWH8E=",
          "dtype": "f4"
         },
         "yaxis": "y"
        },
        {
         "hovertemplate": "file_id=ai_deep_research_agent/README.md<br>0=%{x}<br>1=%{y}<extra></extra>",
         "legendgroup": "ai_deep_research_agent/README.md",
         "marker": {
          "color": "#19d3f3",
          "symbol": "circle"
         },
         "mode": "markers",
         "name": "ai_deep_research_agent/README.md",
         "orientation": "v",
         "showlegend": true,
         "type": "scatter",
         "x": {
          "bdata": "uQJrwAzMa8CAIYzA/x9cwGmJqcCPwJfAg+WLwA==",
          "dtype": "f4"
         },
         "xaxis": "x",
         "y": {
          "bdata": "dOMdQVrfHUHAIRlBmpKkwDCQZsDCNhVBbbQdQQ==",
          "dtype": "f4"
         },
         "yaxis": "y"
        },
        {
         "hovertemplate": "file_id=ai_real_estate_agent/README.md<br>0=%{x}<br>1=%{y}<extra></extra>",
         "legendgroup": "ai_real_estate_agent/README.md",
         "marker": {
          "color": "#FF6692",
          "symbol": "circle"
         },
         "mode": "markers",
         "name": "ai_real_estate_agent/README.md",
         "orientation": "v",
         "showlegend": true,
         "type": "scatter",
         "x": {
          "bdata": "R4JJQb/zT0HxylFBZiEvwImfS0GuplFB",
          "dtype": "f4"
         },
         "xaxis": "x",
         "y": {
          "bdata": "aSuXQMp+p0D1HK5Ap3mdwLXLhEBw561A",
          "dtype": "f4"
         },
         "yaxis": "y"
        },
        {
         "hovertemplate": "file_id=ai_journalist_agent/README.md<br>0=%{x}<br>1=%{y}<extra></extra>",
         "legendgroup": "ai_journalist_agent/README.md",
         "marker": {
          "color": "#B6E880",
          "symbol": "circle"
         },
         "mode": "markers",
         "name": "ai_journalist_agent/README.md",
         "orientation": "v",
         "showlegend": true,
         "type": "scatter",
         "x": {
          "bdata": "vDnNQNg1NMFna1nBL3bVQA==",
          "dtype": "f4"
         },
         "xaxis": "x",
         "y": {
          "bdata": "sHEQQKvMjMCRCYrAEkIGQA==",
          "dtype": "f4"
         },
         "yaxis": "y"
        },
        {
         "hovertemplate": "file_id=ai_meeting_agent/README.md<br>0=%{x}<br>1=%{y}<extra></extra>",
         "legendgroup": "ai_meeting_agent/README.md",
         "marker": {
          "color": "#FF97FF",
          "symbol": "circle"
         },
         "mode": "markers",
         "name": "ai_meeting_agent/README.md",
         "orientation": "v",
         "showlegend": true,
         "type": "scatter",
         "x": {
          "bdata": "JqK0QJpYPMEpCE3B",
          "dtype": "f4"
         },
         "xaxis": "x",
         "y": {
          "bdata": "2TtpQAhmmcBhXIbA",
          "dtype": "f4"
         },
         "yaxis": "y"
        },
        {
         "hovertemplate": "file_id=ai_customer_support_agent/README.md<br>0=%{x}<br>1=%{y}<extra></extra>",
         "legendgroup": "ai_customer_support_agent/README.md",
         "marker": {
          "color": "#FECB52",
          "symbol": "circle"
         },
         "mode": "markers",
         "name": "ai_customer_support_agent/README.md",
         "orientation": "v",
         "showlegend": true,
         "type": "scatter",
         "x": {
          "bdata": "912WQNTqCkCDFOg/",
          "dtype": "f4"
         },
         "xaxis": "x",
         "y": {
          "bdata": "qU0TP1hdvcCCwltB",
          "dtype": "f4"
         },
         "yaxis": "y"
        },
        {
         "hovertemplate": "file_id=ai_investment_agent/README.md<br>0=%{x}<br>1=%{y}<extra></extra>",
         "legendgroup": "ai_investment_agent/README.md",
         "marker": {
          "color": "#636efa",
          "symbol": "circle"
         },
         "mode": "markers",
         "name": "ai_investment_agent/README.md",
         "orientation": "v",
         "showlegend": true,
         "type": "scatter",
         "x": {
          "bdata": "cVskwa1iP8C8VDZBzlo2QQ==",
          "dtype": "f4"
         },
         "xaxis": "x",
         "y": {
          "bdata": "Xdm2QHBdxcC71SbAINokwA==",
          "dtype": "f4"
         },
         "yaxis": "y"
        },
        {
         "hovertemplate": "file_id=ai_system_architect_r1/README.md<br>0=%{x}<br>1=%{y}<extra></extra>",
         "legendgroup": "ai_system_architect_r1/README.md",
         "marker": {
          "color": "#EF553B",
          "symbol": "circle"
         },
         "mode": "markers",
         "name": "ai_system_architect_r1/README.md",
         "orientation": "v",
         "showlegend": true,
         "type": "scatter",
         "x": {
          "bdata": "5QmtwJKKrcAf/YHAnCHmwGROckHyQXJBANbfwA==",
          "dtype": "f4"
         },
         "xaxis": "x",
         "y": {
          "bdata": "uro2QRl0NkH8h/3A57koQc5AqsBYVKnA/AIqQQ==",
          "dtype": "f4"
         },
         "yaxis": "y"
        },
        {
         "hovertemplate": "file_id=ai_lead_generation_agent/README.md<br>0=%{x}<br>1=%{y}<extra></extra>",
         "legendgroup": "ai_lead_generation_agent/README.md",
         "marker": {
          "color": "#00cc96",
          "symbol": "circle"
         },
         "mode": "markers",
         "name": "ai_lead_generation_agent/README.md",
         "orientation": "v",
         "showlegend": true,
         "type": "scatter",
         "x": {
          "bdata": "vZpMwR6dTMEONwLAQUM9wA==",
          "dtype": "f4"
         },
         "xaxis": "x",
         "y": {
          "bdata": "oCtxP++ocD+31ATB2AKTwA==",
          "dtype": "f4"
         },
         "yaxis": "y"
        },
        {
         "hovertemplate": "file_id=ai_financial_coach_agent/README.md<br>0=%{x}<br>1=%{y}<extra></extra>",
         "legendgroup": "ai_financial_coach_agent/README.md",
         "marker": {
          "color": "#ab63fa",
          "symbol": "circle"
         },
         "mode": "markers",
         "name": "ai_financial_coach_agent/README.md",
         "orientation": "v",
         "showlegend": true,
         "type": "scatter",
         "x": {
          "bdata": "ZLkkwQUwHMGr3BvBe6j2wPqCGsH3xhvB1FohwQ==",
          "dtype": "f4"
         },
         "xaxis": "x",
         "y": {
          "bdata": "pM/lQE/zAUFjPwNB1XwawYeaIMDmqg/AdKnHvw==",
          "dtype": "f4"
         },
         "yaxis": "y"
        },
        {
         "hovertemplate": "file_id=multi_agent_researcher/README.md<br>0=%{x}<br>1=%{y}<extra></extra>",
         "legendgroup": "multi_agent_researcher/README.md",
         "marker": {
          "color": "#FFA15A",
          "symbol": "circle"
         },
         "mode": "markers",
         "name": "multi_agent_researcher/README.md",
         "orientation": "v",
         "showlegend": true,
         "type": "scatter",
         "x": {
          "bdata": "uge7QNQ6QMDTCd/A++LXwKzj0sA=",
          "dtype": "f4"
         },
         "xaxis": "x",
         "y": {
          "bdata": "uyAjQOkSw8AUcgBBQZwBQYJ1AUE=",
          "dtype": "f4"
         },
         "yaxis": "y"
        },
        {
         "hovertemplate": "file_id=ai_mental_wellbeing_agent/README.md<br>0=%{x}<br>1=%{y}<extra></extra>",
         "legendgroup": "ai_mental_wellbeing_agent/README.md",
         "marker": {
          "color": "#19d3f3",
          "symbol": "circle"
         },
         "mode": "markers",
         "name": "ai_mental_wellbeing_agent/README.md",
         "orientation": "v",
         "showlegend": true,
         "type": "scatter",
         "x": {
          "bdata": "Q+dBQOL2MkC6dS5AqYHewF25OMALt9bA",
          "dtype": "f4"
         },
         "xaxis": "x",
         "y": {
          "bdata": "u19eveQGYD+ZF3c/+5aoQDmlDcH4dPzA",
          "dtype": "f4"
         },
         "yaxis": "y"
        },
        {
         "hovertemplate": "file_id=ai_aqi_analysis_agent/README.md<br>0=%{x}<br>1=%{y}<extra></extra>",
         "legendgroup": "ai_aqi_analysis_agent/README.md",
         "marker": {
          "color": "#FF6692",
          "symbol": "circle"
         },
         "mode": "markers",
         "name": "ai_aqi_analysis_agent/README.md",
         "orientation": "v",
         "showlegend": true,
         "type": "scatter",
         "x": {
          "bdata": "tCIYwPOxE8ArpbjA9vdCwZQwRMGq8wzA8R4KwA==",
          "dtype": "f4"
         },
         "xaxis": "x",
         "y": {
          "bdata": "ui2FQS0lh0EZaCjBYfH0wDSw9sCU7otBIgCNQQ==",
          "dtype": "f4"
         },
         "yaxis": "y"
        },
        {
         "hovertemplate": "file_id=multimodal_coding_agent_team/README.md<br>0=%{x}<br>1=%{y}<extra></extra>",
         "legendgroup": "multimodal_coding_agent_team/README.md",
         "marker": {
          "color": "#B6E880",
          "symbol": "circle"
         },
         "mode": "markers",
         "name": "multimodal_coding_agent_team/README.md",
         "orientation": "v",
         "showlegend": true,
         "type": "scatter",
         "x": {
          "bdata": "TV7SQLDS08Assw/BHLa/wKgqzcBweAvB",
          "dtype": "f4"
         },
         "xaxis": "x",
         "y": {
          "bdata": "B32tQMnqh0BgjyfBACgRwZOdCsEfAyfB",
          "dtype": "f4"
         },
         "yaxis": "y"
        },
        {
         "hovertemplate": "file_id=multimodal_design_agent_team/README.md<br>0=%{x}<br>1=%{y}<extra></extra>",
         "legendgroup": "multimodal_design_agent_team/README.md",
         "marker": {
          "color": "#FF97FF",
          "symbol": "circle"
         },
         "mode": "markers",
         "name": "multimodal_design_agent_team/README.md",
         "orientation": "v",
         "showlegend": true,
         "type": "scatter",
         "x": {
          "bdata": "YSvHQM99QsDrAEXAzJpowMY9fsBa80/A",
          "dtype": "f4"
         },
         "xaxis": "x",
         "y": {
          "bdata": "MUjXQDxOS0HxYkpBUQMawb5TLMHuYTxB",
          "dtype": "f4"
         },
         "yaxis": "y"
        },
        {
         "hovertemplate": "file_id=ai_game_design_agent_team/README.md<br>0=%{x}<br>1=%{y}<extra></extra>",
         "legendgroup": "ai_game_design_agent_team/README.md",
         "marker": {
          "color": "#FECB52",
          "symbol": "circle"
         },
         "mode": "markers",
         "name": "ai_game_design_agent_team/README.md",
         "orientation": "v",
         "showlegend": true,
         "type": "scatter",
         "x": {
          "bdata": "HZnnwAZgxkB0n8RAoB3LQGrYAsE5y+XAILrpwA==",
          "dtype": "f4"
         },
         "xaxis": "x",
         "y": {
          "bdata": "PqpZwFY+J0FUESdBIHgoQURMssA4QKTAa2qXwA==",
          "dtype": "f4"
         },
         "yaxis": "y"
        },
        {
         "hovertemplate": "file_id=ai_recruitment_agent_team/README.md<br>0=%{x}<br>1=%{y}<extra></extra>",
         "legendgroup": "ai_recruitment_agent_team/README.md",
         "marker": {
          "color": "#636efa",
          "symbol": "circle"
         },
         "mode": "markers",
         "name": "ai_recruitment_agent_team/README.md",
         "orientation": "v",
         "showlegend": true,
         "type": "scatter",
         "x": {
          "bdata": "2DiIQK8qYkCxC6XAI2SdQNAknECw2ZtAw/jGv4zMi0AbgotAgoNKQA==",
          "dtype": "f4"
         },
         "xaxis": "x",
         "y": {
          "bdata": "zV0TQTiAFUFYZf8/e1KWQdAylkHKEJZBjLPIwB54FkEB5xpBc/gTQQ==",
          "dtype": "f4"
         },
         "yaxis": "y"
        },
        {
         "hovertemplate": "file_id=ai_competitor_intelligence_agent_team/README.md<br>0=%{x}<br>1=%{y}<extra></extra>",
         "legendgroup": "ai_competitor_intelligence_agent_team/README.md",
         "marker": {
          "color": "#EF553B",
          "symbol": "circle"
         },
         "mode": "markers",
         "name": "ai_competitor_intelligence_agent_team/README.md",
         "orientation": "v",
         "showlegend": true,
         "type": "scatter",
         "x": {
          "bdata": "4fwVwIp8F8BEkxjA5zZuwMrCZsCla4vA",
          "dtype": "f4"
         },
         "xaxis": "x",
         "y": {
          "bdata": "/4pkQcjVYEHxBF5Bs5ZZwC+6YsBT7jnA",
          "dtype": "f4"
         },
         "yaxis": "y"
        },
        {
         "hovertemplate": "file_id=ai_finance_agent_team/README.md<br>0=%{x}<br>1=%{y}<extra></extra>",
         "legendgroup": "ai_finance_agent_team/README.md",
         "marker": {
          "color": "#00cc96",
          "symbol": "circle"
         },
         "mode": "markers",
         "name": "ai_finance_agent_team/README.md",
         "orientation": "v",
         "showlegend": true,
         "type": "scatter",
         "x": {
          "bdata": "XYwnwU/mK8E/AivB",
          "dtype": "f4"
         },
         "xaxis": "x",
         "y": {
          "bdata": "8vWOQBXngUBseDVA",
          "dtype": "f4"
         },
         "yaxis": "y"
        },
        {
         "hovertemplate": "file_id=ai_legal_agent_team/README.md<br>0=%{x}<br>1=%{y}<extra></extra>",
         "legendgroup": "ai_legal_agent_team/README.md",
         "marker": {
          "color": "#ab63fa",
          "symbol": "circle"
         },
         "mode": "markers",
         "name": "ai_legal_agent_team/README.md",
         "orientation": "v",
         "showlegend": true,
         "type": "scatter",
         "x": {
          "bdata": "w6GoQD+bhUAq/31ABw92QGsq/b4ETpy+KXPevg==",
          "dtype": "f4"
         },
         "xaxis": "x",
         "y": {
          "bdata": "iHfsQLZx9kDaVftAq/33QMBvuMCYvanAl/lgQA==",
          "dtype": "f4"
         },
         "yaxis": "y"
        },
        {
         "hovertemplate": "file_id=ai_services_agency/README.md<br>0=%{x}<br>1=%{y}<extra></extra>",
         "legendgroup": "ai_services_agency/README.md",
         "marker": {
          "color": "#FFA15A",
          "symbol": "circle"
         },
         "mode": "markers",
         "name": "ai_services_agency/README.md",
         "orientation": "v",
         "showlegend": true,
         "type": "scatter",
         "x": {
          "bdata": "/ycTP9regD72rRdA4MgUQLiM6j9vp7s/pgMdwP6GscA=",
          "dtype": "f4"
         },
         "xaxis": "x",
         "y": {
          "bdata": "Z9MoQc+HLEFSuCxBzUItQZuqLkGNQjNBqADRwGWbtsA=",
          "dtype": "f4"
         },
         "yaxis": "y"
        },
        {
         "hovertemplate": "file_id=ai_teaching_agent_team/README.md<br>0=%{x}<br>1=%{y}<extra></extra>",
         "legendgroup": "ai_teaching_agent_team/README.md",
         "marker": {
          "color": "#19d3f3",
          "symbol": "circle"
         },
         "mode": "markers",
         "name": "ai_teaching_agent_team/README.md",
         "orientation": "v",
         "showlegend": true,
         "type": "scatter",
         "x": {
          "bdata": "dgWXQJh6j0A3i4VAKbYowMNUNMHXszTBE81QwQ==",
          "dtype": "f4"
         },
         "xaxis": "x",
         "y": {
          "bdata": "d0DEQOA5wUCayb1A4wfrwH6PTMFMnUzBYItWwA==",
          "dtype": "f4"
         },
         "yaxis": "y"
        }
       ],
       "layout": {
        "legend": {
         "title": {
          "text": "file_id"
         },
         "tracegroupgap": 0
        },
        "margin": {
         "t": 60
        },
        "template": {
         "data": {
          "bar": [
           {
            "error_x": {
             "color": "#2a3f5f"
            },
            "error_y": {
             "color": "#2a3f5f"
            },
            "marker": {
             "line": {
              "color": "#E5ECF6",
              "width": 0.5
             },
             "pattern": {
              "fillmode": "overlay",
              "size": 10,
              "solidity": 0.2
             }
            },
            "type": "bar"
           }
          ],
          "barpolar": [
           {
            "marker": {
             "line": {
              "color": "#E5ECF6",
              "width": 0.5
             },
             "pattern": {
              "fillmode": "overlay",
              "size": 10,
              "solidity": 0.2
             }
            },
            "type": "barpolar"
           }
          ],
          "carpet": [
           {
            "aaxis": {
             "endlinecolor": "#2a3f5f",
             "gridcolor": "white",
             "linecolor": "white",
             "minorgridcolor": "white",
             "startlinecolor": "#2a3f5f"
            },
            "baxis": {
             "endlinecolor": "#2a3f5f",
             "gridcolor": "white",
             "linecolor": "white",
             "minorgridcolor": "white",
             "startlinecolor": "#2a3f5f"
            },
            "type": "carpet"
           }
          ],
          "choropleth": [
           {
            "colorbar": {
             "outlinewidth": 0,
             "ticks": ""
            },
            "type": "choropleth"
           }
          ],
          "contour": [
           {
            "colorbar": {
             "outlinewidth": 0,
             "ticks": ""
            },
            "colorscale": [
             [
              0,
              "#0d0887"
             ],
             [
              0.1111111111111111,
              "#46039f"
             ],
             [
              0.2222222222222222,
              "#7201a8"
             ],
             [
              0.3333333333333333,
              "#9c179e"
             ],
             [
              0.4444444444444444,
              "#bd3786"
             ],
             [
              0.5555555555555556,
              "#d8576b"
             ],
             [
              0.6666666666666666,
              "#ed7953"
             ],
             [
              0.7777777777777778,
              "#fb9f3a"
             ],
             [
              0.8888888888888888,
              "#fdca26"
             ],
             [
              1,
              "#f0f921"
             ]
            ],
            "type": "contour"
           }
          ],
          "contourcarpet": [
           {
            "colorbar": {
             "outlinewidth": 0,
             "ticks": ""
            },
            "type": "contourcarpet"
           }
          ],
          "heatmap": [
           {
            "colorbar": {
             "outlinewidth": 0,
             "ticks": ""
            },
            "colorscale": [
             [
              0,
              "#0d0887"
             ],
             [
              0.1111111111111111,
              "#46039f"
             ],
             [
              0.2222222222222222,
              "#7201a8"
             ],
             [
              0.3333333333333333,
              "#9c179e"
             ],
             [
              0.4444444444444444,
              "#bd3786"
             ],
             [
              0.5555555555555556,
              "#d8576b"
             ],
             [
              0.6666666666666666,
              "#ed7953"
             ],
             [
              0.7777777777777778,
              "#fb9f3a"
             ],
             [
              0.8888888888888888,
              "#fdca26"
             ],
             [
              1,
              "#f0f921"
             ]
            ],
            "type": "heatmap"
           }
          ],
          "histogram": [
           {
            "marker": {
             "pattern": {
              "fillmode": "overlay",
              "size": 10,
              "solidity": 0.2
             }
            },
            "type": "histogram"
           }
          ],
          "histogram2d": [
           {
            "colorbar": {
             "outlinewidth": 0,
             "ticks": ""
            },
            "colorscale": [
             [
              0,
              "#0d0887"
             ],
             [
              0.1111111111111111,
              "#46039f"
             ],
             [
              0.2222222222222222,
              "#7201a8"
             ],
             [
              0.3333333333333333,
              "#9c179e"
             ],
             [
              0.4444444444444444,
              "#bd3786"
             ],
             [
              0.5555555555555556,
              "#d8576b"
             ],
             [
              0.6666666666666666,
              "#ed7953"
             ],
             [
              0.7777777777777778,
              "#fb9f3a"
             ],
             [
              0.8888888888888888,
              "#fdca26"
             ],
             [
              1,
              "#f0f921"
             ]
            ],
            "type": "histogram2d"
           }
          ],
          "histogram2dcontour": [
           {
            "colorbar": {
             "outlinewidth": 0,
             "ticks": ""
            },
            "colorscale": [
             [
              0,
              "#0d0887"
             ],
             [
              0.1111111111111111,
              "#46039f"
             ],
             [
              0.2222222222222222,
              "#7201a8"
             ],
             [
              0.3333333333333333,
              "#9c179e"
             ],
             [
              0.4444444444444444,
              "#bd3786"
             ],
             [
              0.5555555555555556,
              "#d8576b"
             ],
             [
              0.6666666666666666,
              "#ed7953"
             ],
             [
              0.7777777777777778,
              "#fb9f3a"
             ],
             [
              0.8888888888888888,
              "#fdca26"
             ],
             [
              1,
              "#f0f921"
             ]
            ],
            "type": "histogram2dcontour"
           }
          ],
          "mesh3d": [
           {
            "colorbar": {
             "outlinewidth": 0,
             "ticks": ""
            },
            "type": "mesh3d"
           }
          ],
          "parcoords": [
           {
            "line": {
             "colorbar": {
              "outlinewidth": 0,
              "ticks": ""
             }
            },
            "type": "parcoords"
           }
          ],
          "pie": [
           {
            "automargin": true,
            "type": "pie"
           }
          ],
          "scatter": [
           {
            "fillpattern": {
             "fillmode": "overlay",
             "size": 10,
             "solidity": 0.2
            },
            "type": "scatter"
           }
          ],
          "scatter3d": [
           {
            "line": {
             "colorbar": {
              "outlinewidth": 0,
              "ticks": ""
             }
            },
            "marker": {
             "colorbar": {
              "outlinewidth": 0,
              "ticks": ""
             }
            },
            "type": "scatter3d"
           }
          ],
          "scattercarpet": [
           {
            "marker": {
             "colorbar": {
              "outlinewidth": 0,
              "ticks": ""
             }
            },
            "type": "scattercarpet"
           }
          ],
          "scattergeo": [
           {
            "marker": {
             "colorbar": {
              "outlinewidth": 0,
              "ticks": ""
             }
            },
            "type": "scattergeo"
           }
          ],
          "scattergl": [
           {
            "marker": {
             "colorbar": {
              "outlinewidth": 0,
              "ticks": ""
             }
            },
            "type": "scattergl"
           }
          ],
          "scattermap": [
           {
            "marker": {
             "colorbar": {
              "outlinewidth": 0,
              "ticks": ""
             }
            },
            "type": "scattermap"
           }
          ],
          "scattermapbox": [
           {
            "marker": {
             "colorbar": {
              "outlinewidth": 0,
              "ticks": ""
             }
            },
            "type": "scattermapbox"
           }
          ],
          "scatterpolar": [
           {
            "marker": {
             "colorbar": {
              "outlinewidth": 0,
              "ticks": ""
             }
            },
            "type": "scatterpolar"
           }
          ],
          "scatterpolargl": [
           {
            "marker": {
             "colorbar": {
              "outlinewidth": 0,
              "ticks": ""
             }
            },
            "type": "scatterpolargl"
           }
          ],
          "scatterternary": [
           {
            "marker": {
             "colorbar": {
              "outlinewidth": 0,
              "ticks": ""
             }
            },
            "type": "scatterternary"
           }
          ],
          "surface": [
           {
            "colorbar": {
             "outlinewidth": 0,
             "ticks": ""
            },
            "colorscale": [
             [
              0,
              "#0d0887"
             ],
             [
              0.1111111111111111,
              "#46039f"
             ],
             [
              0.2222222222222222,
              "#7201a8"
             ],
             [
              0.3333333333333333,
              "#9c179e"
             ],
             [
              0.4444444444444444,
              "#bd3786"
             ],
             [
              0.5555555555555556,
              "#d8576b"
             ],
             [
              0.6666666666666666,
              "#ed7953"
             ],
             [
              0.7777777777777778,
              "#fb9f3a"
             ],
             [
              0.8888888888888888,
              "#fdca26"
             ],
             [
              1,
              "#f0f921"
             ]
            ],
            "type": "surface"
           }
          ],
          "table": [
           {
            "cells": {
             "fill": {
              "color": "#EBF0F8"
             },
             "line": {
              "color": "white"
             }
            },
            "header": {
             "fill": {
              "color": "#C8D4E3"
             },
             "line": {
              "color": "white"
             }
            },
            "type": "table"
           }
          ]
         },
         "layout": {
          "annotationdefaults": {
           "arrowcolor": "#2a3f5f",
           "arrowhead": 0,
           "arrowwidth": 1
          },
          "autotypenumbers": "strict",
          "coloraxis": {
           "colorbar": {
            "outlinewidth": 0,
            "ticks": ""
           }
          },
          "colorscale": {
           "diverging": [
            [
             0,
             "#8e0152"
            ],
            [
             0.1,
             "#c51b7d"
            ],
            [
             0.2,
             "#de77ae"
            ],
            [
             0.3,
             "#f1b6da"
            ],
            [
             0.4,
             "#fde0ef"
            ],
            [
             0.5,
             "#f7f7f7"
            ],
            [
             0.6,
             "#e6f5d0"
            ],
            [
             0.7,
             "#b8e186"
            ],
            [
             0.8,
             "#7fbc41"
            ],
            [
             0.9,
             "#4d9221"
            ],
            [
             1,
             "#276419"
            ]
           ],
           "sequential": [
            [
             0,
             "#0d0887"
            ],
            [
             0.1111111111111111,
             "#46039f"
            ],
            [
             0.2222222222222222,
             "#7201a8"
            ],
            [
             0.3333333333333333,
             "#9c179e"
            ],
            [
             0.4444444444444444,
             "#bd3786"
            ],
            [
             0.5555555555555556,
             "#d8576b"
            ],
            [
             0.6666666666666666,
             "#ed7953"
            ],
            [
             0.7777777777777778,
             "#fb9f3a"
            ],
            [
             0.8888888888888888,
             "#fdca26"
            ],
            [
             1,
             "#f0f921"
            ]
           ],
           "sequentialminus": [
            [
             0,
             "#0d0887"
            ],
            [
             0.1111111111111111,
             "#46039f"
            ],
            [
             0.2222222222222222,
             "#7201a8"
            ],
            [
             0.3333333333333333,
             "#9c179e"
            ],
            [
             0.4444444444444444,
             "#bd3786"
            ],
            [
             0.5555555555555556,
             "#d8576b"
            ],
            [
             0.6666666666666666,
             "#ed7953"
            ],
            [
             0.7777777777777778,
             "#fb9f3a"
            ],
            [
             0.8888888888888888,
             "#fdca26"
            ],
            [
             1,
             "#f0f921"
            ]
           ]
          },
          "colorway": [
           "#636efa",
           "#EF553B",
           "#00cc96",
           "#ab63fa",
           "#FFA15A",
           "#19d3f3",
           "#FF6692",
           "#B6E880",
           "#FF97FF",
           "#FECB52"
          ],
          "font": {
           "color": "#2a3f5f"
          },
          "geo": {
           "bgcolor": "white",
           "lakecolor": "white",
           "landcolor": "#E5ECF6",
           "showlakes": true,
           "showland": true,
           "subunitcolor": "white"
          },
          "hoverlabel": {
           "align": "left"
          },
          "hovermode": "closest",
          "mapbox": {
           "style": "light"
          },
          "paper_bgcolor": "white",
          "plot_bgcolor": "#E5ECF6",
          "polar": {
           "angularaxis": {
            "gridcolor": "white",
            "linecolor": "white",
            "ticks": ""
           },
           "bgcolor": "#E5ECF6",
           "radialaxis": {
            "gridcolor": "white",
            "linecolor": "white",
            "ticks": ""
           }
          },
          "scene": {
           "xaxis": {
            "backgroundcolor": "#E5ECF6",
            "gridcolor": "white",
            "gridwidth": 2,
            "linecolor": "white",
            "showbackground": true,
            "ticks": "",
            "zerolinecolor": "white"
           },
           "yaxis": {
            "backgroundcolor": "#E5ECF6",
            "gridcolor": "white",
            "gridwidth": 2,
            "linecolor": "white",
            "showbackground": true,
            "ticks": "",
            "zerolinecolor": "white"
           },
           "zaxis": {
            "backgroundcolor": "#E5ECF6",
            "gridcolor": "white",
            "gridwidth": 2,
            "linecolor": "white",
            "showbackground": true,
            "ticks": "",
            "zerolinecolor": "white"
           }
          },
          "shapedefaults": {
           "line": {
            "color": "#2a3f5f"
           }
          },
          "ternary": {
           "aaxis": {
            "gridcolor": "white",
            "linecolor": "white",
            "ticks": ""
           },
           "baxis": {
            "gridcolor": "white",
            "linecolor": "white",
            "ticks": ""
           },
           "bgcolor": "#E5ECF6",
           "caxis": {
            "gridcolor": "white",
            "linecolor": "white",
            "ticks": ""
           }
          },
          "title": {
           "x": 0.05
          },
          "xaxis": {
           "automargin": true,
           "gridcolor": "white",
           "linecolor": "white",
           "ticks": "",
           "title": {
            "standoff": 15
           },
           "zerolinecolor": "white",
           "zerolinewidth": 2
          },
          "yaxis": {
           "automargin": true,
           "gridcolor": "white",
           "linecolor": "white",
           "ticks": "",
           "title": {
            "standoff": 15
           },
           "zerolinecolor": "white",
           "zerolinewidth": 2
          }
         }
        },
        "xaxis": {
         "anchor": "y",
         "domain": [
          0,
          1
         ],
         "title": {
          "text": "0"
         }
        },
        "yaxis": {
         "anchor": "x",
         "domain": [
          0,
          1
         ],
         "title": {
          "text": "1"
         }
        }
       }
      }
     },
     "metadata": {},
     "output_type": "display_data"
    }
   ],
   "source": [
    "fig = px.scatter(\n",
    "    projections, x=0, y=1,\n",
    "    color=df.file_id,\n",
    "    labels={'color': 'file_id'}\n",
    ")\n",
    "fig.show()"
   ]
  }
 ],
 "metadata": {
  "kernelspec": {
   "display_name": "venv310",
   "language": "python",
   "name": "python3"
  },
  "language_info": {
   "codemirror_mode": {
    "name": "ipython",
    "version": 3
   },
   "file_extension": ".py",
   "mimetype": "text/x-python",
   "name": "python",
   "nbconvert_exporter": "python",
   "pygments_lexer": "ipython3",
   "version": "3.10.4"
  }
 },
 "nbformat": 4,
 "nbformat_minor": 2
}
